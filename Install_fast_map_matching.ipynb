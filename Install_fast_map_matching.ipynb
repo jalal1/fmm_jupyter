{
  "nbformat": 4,
  "nbformat_minor": 0,
  "metadata": {
    "colab": {
      "name": "Install fast_map_matching.ipynb",
      "provenance": [],
      "collapsed_sections": []
    },
    "kernelspec": {
      "name": "python3",
      "display_name": "Python 3"
    },
    "language_info": {
      "name": "python"
    }
  },
  "cells": [
    {
      "cell_type": "markdown",
      "source": [
        "\n",
        "### Jupyter notebook to Install **Fast map matching*** using Google Colab\n",
        "### By Jalal Khalil\n",
        "\n",
        "*Can Yang & Gyozo Gidofalvi (2018) Fast map matching, an algorithm\n",
        "integrating hidden Markov model with precomputation, International Journal of Geographical Information Science, 32:3, 547-570, DOI: 10.1080/13658816.2017.1400548\n",
        "\n",
        "https://fmm-wiki.github.io/"
      ],
      "metadata": {
        "id": "JIzG_v7bhEep"
      }
    },
    {
      "cell_type": "code",
      "source": [
        "# https://fmm-wiki.github.io/docs/installation/ubuntu.html\n",
        "\n",
        "# Install all the requirements with:\n",
        "! sudo apt-get install libboost-dev libboost-serialization-dev \\\n",
        "gdal-bin libgdal-dev make cmake libbz2-dev libexpat1-dev swig python-dev"
      ],
      "metadata": {
        "colab": {
          "base_uri": "https://localhost:8080/"
        },
        "id": "iplJ7HVLTzKM",
        "outputId": "02d9bff6-fa93-4dcd-846b-d282d8564ff7"
      },
      "execution_count": 1,
      "outputs": [
        {
          "output_type": "stream",
          "name": "stdout",
          "text": [
            "Reading package lists... Done\n",
            "Building dependency tree       \n",
            "Reading state information... Done\n",
            "libboost-dev is already the newest version (1.65.1.0ubuntu1).\n",
            "libboost-dev set to manually installed.\n",
            "make is already the newest version (4.1-9.1ubuntu1).\n",
            "make set to manually installed.\n",
            "python-dev is already the newest version (2.7.15~rc1-1).\n",
            "gdal-bin is already the newest version (2.2.3+dfsg-2).\n",
            "libboost-serialization-dev is already the newest version (1.65.1.0ubuntu1).\n",
            "libboost-serialization-dev set to manually installed.\n",
            "libgdal-dev is already the newest version (2.2.3+dfsg-2).\n",
            "cmake is already the newest version (3.10.2-1ubuntu2.18.04.2).\n",
            "libbz2-dev is already the newest version (1.0.6-8.1ubuntu0.2).\n",
            "libbz2-dev set to manually installed.\n",
            "libexpat1-dev is already the newest version (2.2.5-3ubuntu0.7).\n",
            "libexpat1-dev set to manually installed.\n",
            "The following additional packages will be installed:\n",
            "  swig3.0\n",
            "Suggested packages:\n",
            "  swig-doc swig-examples swig3.0-examples swig3.0-doc\n",
            "The following NEW packages will be installed:\n",
            "  swig swig3.0\n",
            "0 upgraded, 2 newly installed, 0 to remove and 39 not upgraded.\n",
            "Need to get 1,100 kB of archives.\n",
            "After this operation, 5,822 kB of additional disk space will be used.\n",
            "Get:1 http://archive.ubuntu.com/ubuntu bionic/universe amd64 swig3.0 amd64 3.0.12-1 [1,094 kB]\n",
            "Get:2 http://archive.ubuntu.com/ubuntu bionic/universe amd64 swig amd64 3.0.12-1 [6,460 B]\n",
            "Fetched 1,100 kB in 0s (8,027 kB/s)\n",
            "debconf: unable to initialize frontend: Dialog\n",
            "debconf: (No usable dialog-like program is installed, so the dialog based frontend cannot be used. at /usr/share/perl5/Debconf/FrontEnd/Dialog.pm line 76, <> line 2.)\n",
            "debconf: falling back to frontend: Readline\n",
            "debconf: unable to initialize frontend: Readline\n",
            "debconf: (This frontend requires a controlling tty.)\n",
            "debconf: falling back to frontend: Teletype\n",
            "dpkg-preconfigure: unable to re-open stdin: \n",
            "Selecting previously unselected package swig3.0.\n",
            "(Reading database ... 156210 files and directories currently installed.)\n",
            "Preparing to unpack .../swig3.0_3.0.12-1_amd64.deb ...\n",
            "Unpacking swig3.0 (3.0.12-1) ...\n",
            "Selecting previously unselected package swig.\n",
            "Preparing to unpack .../swig_3.0.12-1_amd64.deb ...\n",
            "Unpacking swig (3.0.12-1) ...\n",
            "Setting up swig3.0 (3.0.12-1) ...\n",
            "Setting up swig (3.0.12-1) ...\n",
            "Processing triggers for man-db (2.8.3-2ubuntu0.1) ...\n"
          ]
        }
      ]
    },
    {
      "cell_type": "code",
      "execution_count": 2,
      "metadata": {
        "colab": {
          "base_uri": "https://localhost:8080/"
        },
        "id": "FD0bU9ZgHQDv",
        "outputId": "60d34550-a3c3-42b5-8a4b-470f89092a4a"
      },
      "outputs": [
        {
          "output_type": "stream",
          "name": "stdout",
          "text": [
            "Cloning into 'fmm'...\n",
            "remote: Enumerating objects: 5162, done.\u001b[K\n",
            "remote: Counting objects: 100% (43/43), done.\u001b[K\n",
            "remote: Compressing objects: 100% (34/34), done.\u001b[K\n",
            "remote: Total 5162 (delta 14), reused 19 (delta 9), pack-reused 5119\u001b[K\n",
            "Receiving objects: 100% (5162/5162), 15.33 MiB | 31.52 MiB/s, done.\n",
            "Resolving deltas: 100% (3062/3062), done.\n"
          ]
        }
      ],
      "source": [
        "! git clone https://github.com/cyang-kth/fmm.git"
      ]
    },
    {
      "cell_type": "code",
      "source": [
        "# !!!! This cell will take some time... !!!!\n",
        "\n",
        "import os\n",
        "# change working directory\n",
        "os.chdir(\"fmm\")\n",
        "\n",
        "if not os.path.exists('build'):\n",
        "  os.mkdir('build')\n",
        "# ! mkdir build\n",
        "os.chdir(\"build\")\n",
        "# ! cd build\n",
        "! cmake ..\n",
        "! make -j4\n",
        "! sudo make install"
      ],
      "metadata": {
        "colab": {
          "base_uri": "https://localhost:8080/"
        },
        "id": "VnY4uRtYSsZk",
        "outputId": "5332217b-fd16-45f9-920d-425db178e303"
      },
      "execution_count": 3,
      "outputs": [
        {
          "output_type": "stream",
          "name": "stdout",
          "text": [
            "-- CMAKE version 3.12.0\n",
            "-- Set CMP0074 state to NEW\n",
            "-- The C compiler identification is GNU 7.5.0\n",
            "-- The CXX compiler identification is GNU 7.5.0\n",
            "-- Check for working C compiler: /usr/bin/cc\n",
            "-- Check for working C compiler: /usr/bin/cc -- works\n",
            "-- Detecting C compiler ABI info\n",
            "-- Detecting C compiler ABI info - done\n",
            "-- Detecting C compile features\n",
            "-- Detecting C compile features - done\n",
            "-- Check for working CXX compiler: /usr/bin/c++\n",
            "-- Check for working CXX compiler: /usr/bin/c++ -- works\n",
            "-- Detecting CXX compiler ABI info\n",
            "-- Detecting CXX compiler ABI info - done\n",
            "-- Detecting CXX compile features\n",
            "-- Detecting CXX compile features - done\n",
            "-- \n",
            "No conda environment found in PATH!\n",
            "PATH=/opt/bin:/usr/local/nvidia/bin:/usr/local/cuda/bin:/usr/local/sbin:/usr/local/bin:/usr/sbin:/usr/bin:/sbin:/bin:/tools/node/bin:/tools/google-cloud-sdk/bin\n",
            "\n",
            "-- Could NOT find Conda (missing: CONDA_PREFIX) \n",
            "-- Non conda exist, search library in default path\n",
            "-- Found GDAL: /usr/lib/libgdal.so (Required is at least version \"2.2\") \n",
            "-- GDAL headers found at /usr/include/gdal\n",
            "-- GDAL library found at /usr/lib/libgdal.so\n",
            "-- Boost version: 1.65.1\n",
            "-- Found the following Boost libraries:\n",
            "--   serialization\n",
            "-- Boost headers found at /usr/include\n",
            "-- Boost library found at /usr/lib/x86_64-linux-gnu/libboost_serialization.so\n",
            "-- Boost library version 1_65_1\n",
            "-- Found OpenMP_C: -fopenmp (found version \"4.5\") \n",
            "-- Found OpenMP_CXX: -fopenmp (found version \"4.5\") \n",
            "-- Found OpenMP: TRUE (found version \"4.5\")  \n",
            "-- OpenMP_HEADERS found at \n",
            "-- OpenMP_CXX_LIBRARIES found at /usr/lib/gcc/x86_64-linux-gnu/7/libgomp.so;/usr/lib/x86_64-linux-gnu/libpthread.so\n",
            "-- Installation folder /usr/local\n",
            "-- Not install fmm headers\n",
            "-- Add python cmake information\n",
            "-- Found SWIG: /usr/bin/swig3.0 (found version \"3.0.12\") \n",
            "-- Swig version is 3.0.12\n",
            "-- Found PythonInterp: /usr/local/bin/python (found version \"3.7.13\") \n",
            "-- Found PythonLibs: /usr/lib/x86_64-linux-gnu/libpython3.7m.so (found version \"3.7.13\") \n",
            "-- Python header found at /usr/include/python3.7m\n",
            "-- Python library found at /usr/lib/x86_64-linux-gnu/libpython3.7m.so\n",
            "-- Python packages /usr/lib/python3/dist-packages\n",
            "-- Using swig add module\n",
            "CMake Deprecation Warning at /usr/local/lib/python3.7/dist-packages/cmake/data/share/cmake-3.12/Modules/UseSWIG.cmake:491 (message):\n",
            "  SWIG_ADD_MODULE is deprecated.  Use SWIG_ADD_LIBRARY instead.\n",
            "Call Stack (most recent call first):\n",
            "  python/CMakeLists.txt:30 (SWIG_ADD_MODULE)\n",
            "\n",
            "\n",
            "-- Configuring done\n",
            "-- Generating done\n",
            "-- Build files have been written to: /content/fmm/build\n",
            "\u001b[35m\u001b[1mScanning dependencies of target STMATCH_OBJ\u001b[0m\n",
            "\u001b[35m\u001b[1mScanning dependencies of target CONFIG\u001b[0m\n",
            "\u001b[35m\u001b[1mScanning dependencies of target CORE\u001b[0m\n",
            "\u001b[35m\u001b[1mScanning dependencies of target ALGORITHM\u001b[0m\n",
            "[  1%] \u001b[32mBuilding CXX object CMakeFiles/CORE.dir/src/core/geometry.cpp.o\u001b[0m\n",
            "[  3%] \u001b[32mBuilding CXX object CMakeFiles/ALGORITHM.dir/src/algorithm/geom_algorithm.cpp.o\u001b[0m\n",
            "[  5%] \u001b[32mBuilding CXX object CMakeFiles/STMATCH_OBJ.dir/src/mm/stmatch/stmatch_algorithm.cpp.o\u001b[0m\n",
            "[  7%] \u001b[32mBuilding CXX object CMakeFiles/CONFIG.dir/src/config/gps_config.cpp.o\u001b[0m\n",
            "[  7%] Built target CORE\n",
            "[  9%] \u001b[32mBuilding CXX object CMakeFiles/STMATCH_OBJ.dir/src/mm/stmatch/stmatch_app.cpp.o\u001b[0m\n",
            "[  9%] Built target ALGORITHM\n",
            "\u001b[35m\u001b[1mScanning dependencies of target IO\u001b[0m\n",
            "[ 11%] \u001b[32mBuilding CXX object CMakeFiles/IO.dir/src/io/gps_reader.cpp.o\u001b[0m\n",
            "[ 13%] \u001b[32mBuilding CXX object CMakeFiles/CONFIG.dir/src/config/network_config.cpp.o\u001b[0m\n",
            "[ 15%] \u001b[32mBuilding CXX object CMakeFiles/STMATCH_OBJ.dir/src/mm/stmatch/stmatch_app_config.cpp.o\u001b[0m\n",
            "\u001b[35m\u001b[1mScanning dependencies of target UTIL\u001b[0m\n",
            "[ 17%] \u001b[32mBuilding CXX object CMakeFiles/UTIL.dir/src/util/util.cpp.o\u001b[0m\n",
            "[ 17%] Built target UTIL\n",
            "[ 19%] \u001b[32mBuilding CXX object CMakeFiles/CONFIG.dir/src/config/result_config.cpp.o\u001b[0m\n",
            "[ 21%] \u001b[32mBuilding CXX object CMakeFiles/IO.dir/src/io/mm_writer.cpp.o\u001b[0m\n",
            "\u001b[35m\u001b[1mScanning dependencies of target NETWORK\u001b[0m\n",
            "[ 23%] \u001b[32mBuilding CXX object CMakeFiles/NETWORK.dir/src/network/bidirectional_network_graph.cpp.o\u001b[0m\n",
            "[ 23%] Built target STMATCH_OBJ\n",
            "\u001b[35m\u001b[1mScanning dependencies of target H3_OBJ\u001b[0m\n",
            "[ 25%] \u001b[32mBuilding C object CMakeFiles/H3_OBJ.dir/third_party/h3/lib/algos.c.o\u001b[0m\n",
            "[ 26%] \u001b[32mBuilding C object CMakeFiles/H3_OBJ.dir/third_party/h3/lib/baseCells.c.o\u001b[0m\n",
            "[ 28%] \u001b[32mBuilding C object CMakeFiles/H3_OBJ.dir/third_party/h3/lib/bbox.c.o\u001b[0m\n",
            "[ 30%] \u001b[32mBuilding C object CMakeFiles/H3_OBJ.dir/third_party/h3/lib/coordijk.c.o\u001b[0m\n",
            "[ 32%] \u001b[32mBuilding C object CMakeFiles/H3_OBJ.dir/third_party/h3/lib/faceijk.c.o\u001b[0m\n",
            "[ 34%] \u001b[32mBuilding C object CMakeFiles/H3_OBJ.dir/third_party/h3/lib/geoCoord.c.o\u001b[0m\n",
            "[ 36%] \u001b[32mBuilding C object CMakeFiles/H3_OBJ.dir/third_party/h3/lib/h3Index.c.o\u001b[0m\n",
            "[ 38%] \u001b[32mBuilding C object CMakeFiles/H3_OBJ.dir/third_party/h3/lib/h3UniEdge.c.o\u001b[0m\n",
            "[ 40%] \u001b[32mBuilding C object CMakeFiles/H3_OBJ.dir/third_party/h3/lib/linkedGeo.c.o\u001b[0m\n",
            "[ 40%] Built target CONFIG\n",
            "\u001b[35m\u001b[1mScanning dependencies of target MM_OBJ\u001b[0m\n",
            "[ 42%] \u001b[32mBuilding C object CMakeFiles/H3_OBJ.dir/third_party/h3/lib/localij.c.o\u001b[0m\n",
            "[ 44%] \u001b[32mBuilding CXX object CMakeFiles/MM_OBJ.dir/src/mm/composite_graph.cpp.o\u001b[0m\n",
            "[ 46%] \u001b[32mBuilding C object CMakeFiles/H3_OBJ.dir/third_party/h3/lib/mathExtensions.c.o\u001b[0m\n",
            "[ 48%] \u001b[32mBuilding C object CMakeFiles/H3_OBJ.dir/third_party/h3/lib/polygon.c.o\u001b[0m\n",
            "[ 50%] \u001b[32mBuilding C object CMakeFiles/H3_OBJ.dir/third_party/h3/lib/vec2d.c.o\u001b[0m\n",
            "[ 51%] \u001b[32mBuilding C object CMakeFiles/H3_OBJ.dir/third_party/h3/lib/vec3d.c.o\u001b[0m\n",
            "[ 53%] \u001b[32mBuilding C object CMakeFiles/H3_OBJ.dir/third_party/h3/lib/vertex.c.o\u001b[0m\n",
            "[ 55%] \u001b[32mBuilding C object CMakeFiles/H3_OBJ.dir/third_party/h3/lib/vertexGraph.c.o\u001b[0m\n",
            "[ 55%] Built target H3_OBJ\n",
            "\u001b[35m\u001b[1mScanning dependencies of target FMM_OBJ\u001b[0m\n",
            "[ 57%] \u001b[32mBuilding CXX object CMakeFiles/FMM_OBJ.dir/src/mm/fmm/fmm_algorithm.cpp.o\u001b[0m\n",
            "[ 57%] Built target IO\n",
            "\u001b[35m\u001b[1mScanning dependencies of target fmm_swig_compilation\u001b[0m\n",
            "[ 59%] \u001b[34m\u001b[1mSwig source\u001b[0m\n",
            "[ 59%] Built target fmm_swig_compilation\n",
            "[ 61%] \u001b[32mBuilding CXX object CMakeFiles/MM_OBJ.dir/src/mm/transition_graph.cpp.o\u001b[0m\n",
            "[ 63%] \u001b[32mBuilding CXX object CMakeFiles/NETWORK.dir/src/network/network.cpp.o\u001b[0m\n",
            "[ 65%] \u001b[32mBuilding CXX object CMakeFiles/NETWORK.dir/src/network/network_graph.cpp.o\u001b[0m\n",
            "[ 65%] Built target MM_OBJ\n",
            "[ 67%] \u001b[32mBuilding CXX object CMakeFiles/NETWORK.dir/src/network/rtree.cpp.o\u001b[0m\n",
            "[ 69%] \u001b[32mBuilding CXX object CMakeFiles/FMM_OBJ.dir/src/mm/fmm/fmm_app.cpp.o\u001b[0m\n",
            "[ 71%] \u001b[32mBuilding CXX object CMakeFiles/FMM_OBJ.dir/src/mm/fmm/fmm_app_config.cpp.o\u001b[0m\n",
            "[ 73%] \u001b[32mBuilding CXX object CMakeFiles/FMM_OBJ.dir/src/mm/fmm/ubodt.cpp.o\u001b[0m\n",
            "[ 73%] Built target NETWORK\n",
            "[ 75%] \u001b[32mBuilding CXX object CMakeFiles/FMM_OBJ.dir/src/mm/fmm/ubodt_gen_algorithm.cpp.o\u001b[0m\n",
            "[ 76%] \u001b[32mBuilding CXX object CMakeFiles/FMM_OBJ.dir/src/mm/fmm/ubodt_gen_app.cpp.o\u001b[0m\n",
            "[ 78%] \u001b[32mBuilding CXX object CMakeFiles/FMM_OBJ.dir/src/mm/fmm/ubodt_gen_app_config.cpp.o\u001b[0m\n",
            "[ 78%] Built target FMM_OBJ\n",
            "\u001b[35m\u001b[1mScanning dependencies of target FMMLIB\u001b[0m\n",
            "[ 80%] \u001b[32m\u001b[1mLinking CXX shared library libFMMLIB.so\u001b[0m\n",
            "[ 80%] Built target FMMLIB\n",
            "\u001b[35m\u001b[1mScanning dependencies of target h3mm\u001b[0m\n",
            "\u001b[35m\u001b[1mScanning dependencies of target stmatch\u001b[0m\n",
            "\u001b[35m\u001b[1mScanning dependencies of target ubodt_gen\u001b[0m\n",
            "\u001b[35m\u001b[1mScanning dependencies of target fmm\u001b[0m\n",
            "[ 82%] \u001b[32mBuilding CXX object CMakeFiles/h3mm.dir/src/app/h3mm.cpp.o\u001b[0m\n",
            "[ 84%] \u001b[32mBuilding CXX object CMakeFiles/ubodt_gen.dir/src/app/ubodt_gen_app.cpp.o\u001b[0m\n",
            "[ 86%] \u001b[32mBuilding CXX object CMakeFiles/stmatch.dir/src/app/stmatch.cpp.o\u001b[0m\n",
            "[ 88%] \u001b[32mBuilding CXX object CMakeFiles/fmm.dir/src/app/fmm.cpp.o\u001b[0m\n",
            "[ 90%] \u001b[32m\u001b[1mLinking CXX executable ubodt_gen\u001b[0m\n",
            "[ 90%] Built target ubodt_gen\n",
            "\u001b[35m\u001b[1mScanning dependencies of target _fmm\u001b[0m\n",
            "[ 92%] \u001b[32mBuilding CXX object python/CMakeFiles/_fmm.dir/CMakeFiles/_fmm.dir/fmmPYTHON_wrap.cxx.o\u001b[0m\n",
            "[ 94%] \u001b[32m\u001b[1mLinking CXX executable stmatch\u001b[0m\n",
            "[ 96%] \u001b[32m\u001b[1mLinking CXX executable fmm\u001b[0m\n",
            "[ 96%] Built target stmatch\n",
            "[ 96%] Built target fmm\n",
            "[ 98%] \u001b[32m\u001b[1mLinking CXX executable h3mm\u001b[0m\n",
            "[ 98%] Built target h3mm\n",
            "[100%] \u001b[32m\u001b[1mLinking CXX shared module _fmm.so\u001b[0m\n",
            "[100%] Built target _fmm\n",
            "[  5%] Built target STMATCH_OBJ\n",
            "[  7%] Built target CORE\n",
            "[  9%] Built target ALGORITHM\n",
            "[ 15%] Built target CONFIG\n",
            "[ 19%] Built target IO\n",
            "[ 21%] Built target UTIL\n",
            "[ 28%] Built target NETWORK\n",
            "[ 59%] Built target H3_OBJ\n",
            "[ 63%] Built target MM_OBJ\n",
            "[ 76%] Built target FMM_OBJ\n",
            "[ 78%] Built target FMMLIB\n",
            "[ 82%] Built target h3mm\n",
            "[ 86%] Built target fmm\n",
            "[ 90%] Built target stmatch\n",
            "[ 94%] Built target ubodt_gen\n",
            "[ 96%] Built target fmm_swig_compilation\n",
            "[100%] Built target _fmm\n",
            "\u001b[36mInstall the project...\u001b[0m\n",
            "-- Install configuration: \"Release\"\n",
            "-- Installing: /usr/local/lib/libFMMLIB.so\n",
            "-- Set runtime path of \"/usr/local/lib/libFMMLIB.so\" to \"/usr/local/lib\"\n",
            "-- Installing: /usr/local/bin/fmm\n",
            "-- Set runtime path of \"/usr/local/bin/fmm\" to \"/usr/local/lib\"\n",
            "-- Installing: /usr/local/bin/ubodt_gen\n",
            "-- Set runtime path of \"/usr/local/bin/ubodt_gen\" to \"/usr/local/lib\"\n",
            "-- Installing: /usr/local/bin/stmatch\n",
            "-- Set runtime path of \"/usr/local/bin/stmatch\" to \"/usr/local/lib\"\n",
            "-- Installing: /usr/local/bin/h3mm\n",
            "-- Set runtime path of \"/usr/local/bin/h3mm\" to \"/usr/local/lib\"\n",
            "-- Installing: /usr/lib/python3/dist-packages/_fmm.so\n",
            "-- Set runtime path of \"/usr/lib/python3/dist-packages/_fmm.so\" to \"/usr/local/lib\"\n",
            "-- Installing: /usr/lib/python3/dist-packages/fmm.py\n"
          ]
        }
      ]
    },
    {
      "cell_type": "code",
      "source": [
        "# Verfication of installation\n",
        "! fmm"
      ],
      "metadata": {
        "colab": {
          "base_uri": "https://localhost:8080/"
        },
        "id": "YbnJHLHaRu_U",
        "outputId": "d42c1705-5c5f-4c8b-f85d-038b749fb3e9"
      },
      "execution_count": 4,
      "outputs": [
        {
          "output_type": "stream",
          "name": "stdout",
          "text": [
            "[\u001b[32minfo\u001b[m][fmm_app_config.cpp:49 ] Start reading FMM configuration from arguments\n",
            "fmm argument lists:\n",
            "--ubodt (required) <string>: Ubodt file name\n",
            "--network (required) <string>: Network file name\n",
            "--network_id (optional) <string>: Network id name (id)\n",
            "--source (optional) <string>: Network source name (source)\n",
            "--target (optional) <string>: Network target name (target)\n",
            "--gps (required) <string>: GPS file name\n",
            "--gps_id (optional) <string>: GPS id name (id)\n",
            "--gps_x (optional) <string>: GPS x name (x)\n",
            "--gps_y (optional) <string>: GPS y name (y)\n",
            "--gps_timestamp (optional) <string>: GPS timestamp name (timestamp)\n",
            "--gps_geom (optional) <string>: GPS geometry name (geom)\n",
            "--gps_point (optional): if specified read input data as gps point, otherwise (default) read input data as trajectory\n",
            "--output (required) <string>: Output file name\n",
            "--output_fields (optional) <string>: Output fields\n",
            "  opath,cpath,tpath,mgeom,pgeom,\n",
            "  offset,error,spdist,tp,ep,length,duration,speed,all\n",
            "-k/--candidates (optional) <int>: Number of candidates (8)\n",
            "-r/--radius (optional) <double>: search radius (network data unit) (300)\n",
            "-e/--error (optional) <double>: GPS error (network data unit) (50)\n",
            "--reverse_tolerance (optional) <double>: proportion of reverse movement allowed on an edge\n",
            "-l/--log_level (optional) <int>: log level (2)\n",
            "-s/--step (optional) <int>: progress report step (100)\n",
            "--use_omp: use OpenMP for multithreaded map matching\n",
            "-h/--help:print help information\n",
            "For xml configuration, check example folder\n"
          ]
        }
      ]
    },
    {
      "cell_type": "code",
      "source": [
        "# Run python script\n",
        "\n",
        "# Change to the parent folder which contains fmm_test.py\n",
        "# cd ../example/python\n",
        "if os.getcwd() != \"/content/fmm/example/python\":\n",
        "  os.chdir(\"/content/fmm/example/python\")\n",
        "os.system('python fmm_test.py')"
      ],
      "metadata": {
        "colab": {
          "base_uri": "https://localhost:8080/"
        },
        "id": "fwiIplQlU4wt",
        "outputId": "bfd24bad-e19c-4b11-ab7e-35a9f95f2c86"
      },
      "execution_count": 9,
      "outputs": [
        {
          "output_type": "execute_result",
          "data": {
            "text/plain": [
              "256"
            ]
          },
          "metadata": {},
          "execution_count": 9
        }
      ]
    },
    {
      "cell_type": "code",
      "source": [
        "# !!! SKIP !!!\n",
        "# zip and download fmm folder \n",
        "# !zip -r /content/fmm.zip /content/fmm/\n",
        "\n",
        "# from google.colab import files\n",
        "# files.download(\"/content/fmm.zip\")"
      ],
      "metadata": {
        "colab": {
          "base_uri": "https://localhost:8080/",
          "height": 17
        },
        "id": "o4A9QEwZYg_F",
        "outputId": "e9a1cf8b-f959-453b-ca4a-eeb43edafa66"
      },
      "execution_count": 12,
      "outputs": [
        {
          "output_type": "display_data",
          "data": {
            "text/plain": [
              "<IPython.core.display.Javascript object>"
            ],
            "application/javascript": [
              "\n",
              "    async function download(id, filename, size) {\n",
              "      if (!google.colab.kernel.accessAllowed) {\n",
              "        return;\n",
              "      }\n",
              "      const div = document.createElement('div');\n",
              "      const label = document.createElement('label');\n",
              "      label.textContent = `Downloading \"${filename}\": `;\n",
              "      div.appendChild(label);\n",
              "      const progress = document.createElement('progress');\n",
              "      progress.max = size;\n",
              "      div.appendChild(progress);\n",
              "      document.body.appendChild(div);\n",
              "\n",
              "      const buffers = [];\n",
              "      let downloaded = 0;\n",
              "\n",
              "      const channel = await google.colab.kernel.comms.open(id);\n",
              "      // Send a message to notify the kernel that we're ready.\n",
              "      channel.send({})\n",
              "\n",
              "      for await (const message of channel.messages) {\n",
              "        // Send a message to notify the kernel that we're ready.\n",
              "        channel.send({})\n",
              "        if (message.buffers) {\n",
              "          for (const buffer of message.buffers) {\n",
              "            buffers.push(buffer);\n",
              "            downloaded += buffer.byteLength;\n",
              "            progress.value = downloaded;\n",
              "          }\n",
              "        }\n",
              "      }\n",
              "      const blob = new Blob(buffers, {type: 'application/binary'});\n",
              "      const a = document.createElement('a');\n",
              "      a.href = window.URL.createObjectURL(blob);\n",
              "      a.download = filename;\n",
              "      div.appendChild(a);\n",
              "      a.click();\n",
              "      div.remove();\n",
              "    }\n",
              "  "
            ]
          },
          "metadata": {}
        },
        {
          "output_type": "display_data",
          "data": {
            "text/plain": [
              "<IPython.core.display.Javascript object>"
            ],
            "application/javascript": [
              "download(\"download_c6105f48-7346-48a7-9361-4e2a4f8f6d40\", \"fmm.zip\", 33669988)"
            ]
          },
          "metadata": {}
        }
      ]
    },
    {
      "cell_type": "markdown",
      "source": [
        "# Example: Demo of fmm Python API\n",
        "https://github.com/cyang-kth/fmm/blob/master/example/notebook/fmm_example.ipynb"
      ],
      "metadata": {
        "id": "Hty3RwzAfaWm"
      }
    },
    {
      "cell_type": "code",
      "source": [
        "from fmm import Network,NetworkGraph,FastMapMatch,FastMapMatchConfig,UBODT"
      ],
      "metadata": {
        "id": "M1QEFjVdeONV"
      },
      "execution_count": 13,
      "outputs": []
    },
    {
      "cell_type": "code",
      "source": [
        "network = Network(\"/content/fmm/example/data/edges.shp\")\n",
        "print(\"Nodes {} edges {}\".format(network.get_node_count(),network.get_edge_count()))\n",
        "graph = NetworkGraph(network)"
      ],
      "metadata": {
        "colab": {
          "base_uri": "https://localhost:8080/"
        },
        "id": "h4Yd548HeTHe",
        "outputId": "a6a43e14-7f4a-4bd3-f8e7-032ab736f210"
      },
      "execution_count": 15,
      "outputs": [
        {
          "output_type": "stream",
          "name": "stdout",
          "text": [
            "Nodes 17 edges 30\n"
          ]
        }
      ]
    },
    {
      "cell_type": "code",
      "source": [
        "from fmm import UBODTGenAlgorithm"
      ],
      "metadata": {
        "id": "2BrV7Rt5eyvm"
      },
      "execution_count": 16,
      "outputs": []
    },
    {
      "cell_type": "code",
      "source": [
        "ubodt_gen = UBODTGenAlgorithm(network,graph)"
      ],
      "metadata": {
        "id": "WM0xHZNWe08d"
      },
      "execution_count": 17,
      "outputs": []
    },
    {
      "cell_type": "code",
      "source": [
        "status = ubodt_gen.generate_ubodt(\"/content/fmm/example/data/ubodt.txt\", 4, binary=False, use_omp=True)\n",
        "print(status)"
      ],
      "metadata": {
        "colab": {
          "base_uri": "https://localhost:8080/"
        },
        "id": "UdE59vmie0-1",
        "outputId": "9cd81754-6b26-4406-d9be-fcbaa4f0621d"
      },
      "execution_count": 22,
      "outputs": [
        {
          "output_type": "stream",
          "name": "stdout",
          "text": [
            "Status: success\n",
            "Time takes 0 seconds\n",
            "\n"
          ]
        }
      ]
    },
    {
      "cell_type": "code",
      "source": [
        "ubodt = UBODT.read_ubodt_csv(\"/content/fmm/example/data/ubodt.txt\")"
      ],
      "metadata": {
        "id": "b2jJu_ORe1Bd"
      },
      "execution_count": 23,
      "outputs": []
    },
    {
      "cell_type": "code",
      "source": [
        "model = FastMapMatch(network,graph,ubodt)"
      ],
      "metadata": {
        "id": "0PBGD_o4e1Dn"
      },
      "execution_count": 24,
      "outputs": []
    },
    {
      "cell_type": "code",
      "source": [
        "k = 4\n",
        "radius = 0.4\n",
        "gps_error = 0.5\n",
        "fmm_config = FastMapMatchConfig(k,radius,gps_error)"
      ],
      "metadata": {
        "id": "mKLaQaLde1H-"
      },
      "execution_count": 25,
      "outputs": []
    },
    {
      "cell_type": "code",
      "source": [
        "wkt = \"LINESTRING(0.200812146892656 2.14088983050848,1.44262005649717 2.14879943502825,3.06408898305084 2.16066384180791,3.06408898305084 2.7103813559322,3.70872175141242 2.97930790960452,4.11606638418078 2.62337570621469)\""
      ],
      "metadata": {
        "id": "TeXMeYo2f26u"
      },
      "execution_count": 26,
      "outputs": []
    },
    {
      "cell_type": "code",
      "source": [
        "result = model.match_wkt(wkt,fmm_config)"
      ],
      "metadata": {
        "id": "w064u9E9f29Y"
      },
      "execution_count": 27,
      "outputs": []
    },
    {
      "cell_type": "code",
      "source": [
        "print(\"Matched path: \", list(result.cpath))\n",
        "print(\"Matched edge for each point: \", list(result.opath))\n",
        "print(\"Matched edge index \",list(result.indices))\n",
        "print(\"Matched geometry: \",result.mgeom.export_wkt())\n",
        "print(\"Matched point \", result.pgeom.export_wkt())"
      ],
      "metadata": {
        "colab": {
          "base_uri": "https://localhost:8080/"
        },
        "id": "Av-ytUWmf3CP",
        "outputId": "c7d2caea-1fac-4335-9ef9-56bcfac360ff"
      },
      "execution_count": 29,
      "outputs": [
        {
          "output_type": "stream",
          "name": "stdout",
          "text": [
            "Matched path:  [8, 11, 13, 18, 20, 24]\n",
            "Matched edge for each point:  [8, 11, 18, 18, 20, 24]\n",
            "Matched edge index  [0, 1, 3, 3, 4, 5]\n",
            "Matched geometry:  LINESTRING(0.20081215 2,1 2,2 2,3 2,3 3,4 3,4 2.6233757)\n",
            "Matched point  LINESTRING(0.20081215 2,1.4426201 2,3 2.1606638,3 2.7103814,3.7087218 3,4 2.6233757)\n"
          ]
        }
      ]
    },
    {
      "cell_type": "code",
      "source": [
        "candidates = []\n",
        "for c in result.candidates:\n",
        "    candidates.append((c.edge_id,c.source,c.target,c.error,c.length,c.offset,c.spdist,c.ep,c.tp))"
      ],
      "metadata": {
        "id": "JpZlGZPjf3EZ"
      },
      "execution_count": 30,
      "outputs": []
    },
    {
      "cell_type": "code",
      "source": [
        "import pandas as pd\n",
        "df = pd.DataFrame(candidates,\n",
        "                  columns=[\"eid\",\"source\",\"target\",\"error\",\"length\",\"offset\",\"spdist\",\"ep\",\"tp\"])"
      ],
      "metadata": {
        "id": "p0V72LWrf3G2"
      },
      "execution_count": 31,
      "outputs": []
    },
    {
      "cell_type": "code",
      "source": [
        "df.head()"
      ],
      "metadata": {
        "colab": {
          "base_uri": "https://localhost:8080/",
          "height": 206
        },
        "id": "bzvQ8x4qe1KH",
        "outputId": "7a99c7eb-1b39-4f69-c319-0d9a16e27274"
      },
      "execution_count": 32,
      "outputs": [
        {
          "output_type": "execute_result",
          "data": {
            "text/plain": [
              "   eid  source  target     error  length    offset    spdist        ep  \\\n",
              "0    8       7       8  0.140890     1.0  0.200812  0.000000  0.961078   \n",
              "1   11       8       5  0.148799     1.0  0.442620  1.241808  0.956684   \n",
              "2   18       6      11  0.064089     1.0  0.160664  1.718044  0.991819   \n",
              "3   18       6      11  0.064089     1.0  0.710381  0.549718  0.991819   \n",
              "4   20      11      12  0.020692     1.0  0.708722  0.998340  0.999144   \n",
              "\n",
              "         tp  \n",
              "0  0.000000  \n",
              "1  1.000000  \n",
              "2  0.943813  \n",
              "3  1.000000  \n",
              "4  0.699640  "
            ],
            "text/html": [
              "\n",
              "  <div id=\"df-08666078-a817-4a69-a3f4-08d1de993727\">\n",
              "    <div class=\"colab-df-container\">\n",
              "      <div>\n",
              "<style scoped>\n",
              "    .dataframe tbody tr th:only-of-type {\n",
              "        vertical-align: middle;\n",
              "    }\n",
              "\n",
              "    .dataframe tbody tr th {\n",
              "        vertical-align: top;\n",
              "    }\n",
              "\n",
              "    .dataframe thead th {\n",
              "        text-align: right;\n",
              "    }\n",
              "</style>\n",
              "<table border=\"1\" class=\"dataframe\">\n",
              "  <thead>\n",
              "    <tr style=\"text-align: right;\">\n",
              "      <th></th>\n",
              "      <th>eid</th>\n",
              "      <th>source</th>\n",
              "      <th>target</th>\n",
              "      <th>error</th>\n",
              "      <th>length</th>\n",
              "      <th>offset</th>\n",
              "      <th>spdist</th>\n",
              "      <th>ep</th>\n",
              "      <th>tp</th>\n",
              "    </tr>\n",
              "  </thead>\n",
              "  <tbody>\n",
              "    <tr>\n",
              "      <th>0</th>\n",
              "      <td>8</td>\n",
              "      <td>7</td>\n",
              "      <td>8</td>\n",
              "      <td>0.140890</td>\n",
              "      <td>1.0</td>\n",
              "      <td>0.200812</td>\n",
              "      <td>0.000000</td>\n",
              "      <td>0.961078</td>\n",
              "      <td>0.000000</td>\n",
              "    </tr>\n",
              "    <tr>\n",
              "      <th>1</th>\n",
              "      <td>11</td>\n",
              "      <td>8</td>\n",
              "      <td>5</td>\n",
              "      <td>0.148799</td>\n",
              "      <td>1.0</td>\n",
              "      <td>0.442620</td>\n",
              "      <td>1.241808</td>\n",
              "      <td>0.956684</td>\n",
              "      <td>1.000000</td>\n",
              "    </tr>\n",
              "    <tr>\n",
              "      <th>2</th>\n",
              "      <td>18</td>\n",
              "      <td>6</td>\n",
              "      <td>11</td>\n",
              "      <td>0.064089</td>\n",
              "      <td>1.0</td>\n",
              "      <td>0.160664</td>\n",
              "      <td>1.718044</td>\n",
              "      <td>0.991819</td>\n",
              "      <td>0.943813</td>\n",
              "    </tr>\n",
              "    <tr>\n",
              "      <th>3</th>\n",
              "      <td>18</td>\n",
              "      <td>6</td>\n",
              "      <td>11</td>\n",
              "      <td>0.064089</td>\n",
              "      <td>1.0</td>\n",
              "      <td>0.710381</td>\n",
              "      <td>0.549718</td>\n",
              "      <td>0.991819</td>\n",
              "      <td>1.000000</td>\n",
              "    </tr>\n",
              "    <tr>\n",
              "      <th>4</th>\n",
              "      <td>20</td>\n",
              "      <td>11</td>\n",
              "      <td>12</td>\n",
              "      <td>0.020692</td>\n",
              "      <td>1.0</td>\n",
              "      <td>0.708722</td>\n",
              "      <td>0.998340</td>\n",
              "      <td>0.999144</td>\n",
              "      <td>0.699640</td>\n",
              "    </tr>\n",
              "  </tbody>\n",
              "</table>\n",
              "</div>\n",
              "      <button class=\"colab-df-convert\" onclick=\"convertToInteractive('df-08666078-a817-4a69-a3f4-08d1de993727')\"\n",
              "              title=\"Convert this dataframe to an interactive table.\"\n",
              "              style=\"display:none;\">\n",
              "        \n",
              "  <svg xmlns=\"http://www.w3.org/2000/svg\" height=\"24px\"viewBox=\"0 0 24 24\"\n",
              "       width=\"24px\">\n",
              "    <path d=\"M0 0h24v24H0V0z\" fill=\"none\"/>\n",
              "    <path d=\"M18.56 5.44l.94 2.06.94-2.06 2.06-.94-2.06-.94-.94-2.06-.94 2.06-2.06.94zm-11 1L8.5 8.5l.94-2.06 2.06-.94-2.06-.94L8.5 2.5l-.94 2.06-2.06.94zm10 10l.94 2.06.94-2.06 2.06-.94-2.06-.94-.94-2.06-.94 2.06-2.06.94z\"/><path d=\"M17.41 7.96l-1.37-1.37c-.4-.4-.92-.59-1.43-.59-.52 0-1.04.2-1.43.59L10.3 9.45l-7.72 7.72c-.78.78-.78 2.05 0 2.83L4 21.41c.39.39.9.59 1.41.59.51 0 1.02-.2 1.41-.59l7.78-7.78 2.81-2.81c.8-.78.8-2.07 0-2.86zM5.41 20L4 18.59l7.72-7.72 1.47 1.35L5.41 20z\"/>\n",
              "  </svg>\n",
              "      </button>\n",
              "      \n",
              "  <style>\n",
              "    .colab-df-container {\n",
              "      display:flex;\n",
              "      flex-wrap:wrap;\n",
              "      gap: 12px;\n",
              "    }\n",
              "\n",
              "    .colab-df-convert {\n",
              "      background-color: #E8F0FE;\n",
              "      border: none;\n",
              "      border-radius: 50%;\n",
              "      cursor: pointer;\n",
              "      display: none;\n",
              "      fill: #1967D2;\n",
              "      height: 32px;\n",
              "      padding: 0 0 0 0;\n",
              "      width: 32px;\n",
              "    }\n",
              "\n",
              "    .colab-df-convert:hover {\n",
              "      background-color: #E2EBFA;\n",
              "      box-shadow: 0px 1px 2px rgba(60, 64, 67, 0.3), 0px 1px 3px 1px rgba(60, 64, 67, 0.15);\n",
              "      fill: #174EA6;\n",
              "    }\n",
              "\n",
              "    [theme=dark] .colab-df-convert {\n",
              "      background-color: #3B4455;\n",
              "      fill: #D2E3FC;\n",
              "    }\n",
              "\n",
              "    [theme=dark] .colab-df-convert:hover {\n",
              "      background-color: #434B5C;\n",
              "      box-shadow: 0px 1px 3px 1px rgba(0, 0, 0, 0.15);\n",
              "      filter: drop-shadow(0px 1px 2px rgba(0, 0, 0, 0.3));\n",
              "      fill: #FFFFFF;\n",
              "    }\n",
              "  </style>\n",
              "\n",
              "      <script>\n",
              "        const buttonEl =\n",
              "          document.querySelector('#df-08666078-a817-4a69-a3f4-08d1de993727 button.colab-df-convert');\n",
              "        buttonEl.style.display =\n",
              "          google.colab.kernel.accessAllowed ? 'block' : 'none';\n",
              "\n",
              "        async function convertToInteractive(key) {\n",
              "          const element = document.querySelector('#df-08666078-a817-4a69-a3f4-08d1de993727');\n",
              "          const dataTable =\n",
              "            await google.colab.kernel.invokeFunction('convertToInteractive',\n",
              "                                                     [key], {});\n",
              "          if (!dataTable) return;\n",
              "\n",
              "          const docLinkHtml = 'Like what you see? Visit the ' +\n",
              "            '<a target=\"_blank\" href=https://colab.research.google.com/notebooks/data_table.ipynb>data table notebook</a>'\n",
              "            + ' to learn more about interactive tables.';\n",
              "          element.innerHTML = '';\n",
              "          dataTable['output_type'] = 'display_data';\n",
              "          await google.colab.output.renderOutput(dataTable, element);\n",
              "          const docLink = document.createElement('div');\n",
              "          docLink.innerHTML = docLinkHtml;\n",
              "          element.appendChild(docLink);\n",
              "        }\n",
              "      </script>\n",
              "    </div>\n",
              "  </div>\n",
              "  "
            ]
          },
          "metadata": {},
          "execution_count": 32
        }
      ]
    },
    {
      "cell_type": "code",
      "source": [
        "from fmm import GPSConfig,ResultConfig"
      ],
      "metadata": {
        "id": "W0So1mb2gH7u"
      },
      "execution_count": 33,
      "outputs": []
    },
    {
      "cell_type": "code",
      "source": [
        "input_config = GPSConfig()\n",
        "input_config.file = \"../data/trips.csv\"\n",
        "input_config.id = \"id\""
      ],
      "metadata": {
        "id": "SLRfaHUtgIr3"
      },
      "execution_count": 34,
      "outputs": []
    },
    {
      "cell_type": "code",
      "source": [
        "print(input_config.to_string())"
      ],
      "metadata": {
        "colab": {
          "base_uri": "https://localhost:8080/"
        },
        "id": "KTqTCxWCgKOn",
        "outputId": "bdebe0ab-347f-432d-88c7-d7dc4a073e70"
      },
      "execution_count": 36,
      "outputs": [
        {
          "output_type": "stream",
          "name": "stdout",
          "text": [
            "gps file : ../data/trips.csv\n",
            "id column : id\n",
            "geom column : geom\n",
            "timestamp column : timestamp\n",
            "x column : x\n",
            "y column : y\n",
            "GPS point : false\n",
            "\n"
          ]
        }
      ]
    },
    {
      "cell_type": "code",
      "source": [
        "result_config = ResultConfig()\n",
        "result_config.file = \"../data/mr.txt\"\n",
        "result_config.output_config.write_opath = True\n",
        "print(result_config.to_string())"
      ],
      "metadata": {
        "colab": {
          "base_uri": "https://localhost:8080/"
        },
        "id": "15wcNghIgKQ2",
        "outputId": "b3ba12f7-9fb0-454a-b6c5-8c97a2154bbe"
      },
      "execution_count": 39,
      "outputs": [
        {
          "output_type": "stream",
          "name": "stdout",
          "text": [
            "Result file : ../data/mr.txt\n",
            "Output fields: opath cpath mgeom \n"
          ]
        }
      ]
    },
    {
      "cell_type": "code",
      "source": [
        "status = model.match_gps_file(input_config, result_config, fmm_config)\n",
        "print(status)"
      ],
      "metadata": {
        "colab": {
          "base_uri": "https://localhost:8080/"
        },
        "id": "eCDZKsLsgKSp",
        "outputId": "9314eb2c-4499-4f50-cfbb-e250ffd86e41"
      },
      "execution_count": 41,
      "outputs": [
        {
          "output_type": "stream",
          "name": "stdout",
          "text": [
            "Status: success\n",
            "Time takes 0.002 seconds\n",
            "Total points 17 matched 17\n",
            "Total trajectories 3 matched 3\n",
            "Map match percentage 1\n",
            "Map match speed 8500 points/s \n",
            "\n"
          ]
        }
      ]
    },
    {
      "cell_type": "code",
      "source": [
        ""
      ],
      "metadata": {
        "id": "dnQdQlHPgSme"
      },
      "execution_count": null,
      "outputs": []
    }
  ]
}