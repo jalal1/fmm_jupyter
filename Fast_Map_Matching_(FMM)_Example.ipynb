{
  "cells": [
    {
      "cell_type": "markdown",
      "metadata": {
        "id": "_k46UM8ew7M0"
      },
      "source": [
        "# Match Trajectories using FMM\n",
        "#### Jalal Khalil (jalalk@uab.edu)\n",
        "\n",
        "**Input**: raw trajectories around Birmingham, AL, USA\\\n",
        "**Output**: matched trajectories\n",
        "\n",
        "**Steps**:\n",
        "- Get the raw trajectories\n",
        "- Install FMM\n",
        "- Prepare the network\n",
        "- Use FMM for matching\n",
        "- Plot the results"
      ]
    },
    {
      "cell_type": "markdown",
      "source": [
        "### Get the raw data"
      ],
      "metadata": {
        "id": "B_O5pZv8A9sC"
      }
    },
    {
      "cell_type": "code",
      "execution_count": 1,
      "metadata": {
        "id": "00qEVnw42w-F",
        "colab": {
          "base_uri": "https://localhost:8080/"
        },
        "outputId": "4d7c9f9d-0654-4f60-b514-eee35c284daa"
      },
      "outputs": [
        {
          "output_type": "stream",
          "name": "stdout",
          "text": [
            "--2022-08-17 23:06:28--  https://raw.githubusercontent.com/jalal1/fmm_jupyter/master/data/100_trajectories.txt\n",
            "Resolving raw.githubusercontent.com (raw.githubusercontent.com)... 185.199.108.133, 185.199.109.133, 185.199.110.133, ...\n",
            "Connecting to raw.githubusercontent.com (raw.githubusercontent.com)|185.199.108.133|:443... connected.\n",
            "HTTP request sent, awaiting response... 200 OK\n",
            "Length: 25479 (25K) [text/plain]\n",
            "Saving to: ‘100_trajectories.txt.1’\n",
            "\n",
            "\r100_trajectories.tx   0%[                    ]       0  --.-KB/s               \r100_trajectories.tx 100%[===================>]  24.88K  --.-KB/s    in 0s      \n",
            "\n",
            "2022-08-17 23:06:28 (58.1 MB/s) - ‘100_trajectories.txt.1’ saved [25479/25479]\n",
            "\n"
          ]
        }
      ],
      "source": [
        "# download file from GitHub\n",
        "! wget https://raw.githubusercontent.com/jalal1/fmm_jupyter/master/data/100_trajectories.txt"
      ]
    },
    {
      "cell_type": "code",
      "execution_count": 2,
      "metadata": {
        "id": "1UeQSWNZvbs7",
        "colab": {
          "base_uri": "https://localhost:8080/"
        },
        "outputId": "c1b68c63-9d7b-4f27-c76d-39235800bcca"
      },
      "outputs": [
        {
          "output_type": "stream",
          "name": "stdout",
          "text": [
            "Participant2_2019_March2019_Shot0140.jpg:33.509364058739486 -86.78954869584962,33.50978487475548 -86.78860322799623,33.51365016246786 -86.792410503766\n",
            "Participant2_2019_May2019_Shot0142.jpg:33.51094614347225 -86.78923299192616,33.509571534630986 -86.78998517826301,33.51938097370663 -86.79837386198179,33.50822037079172 -86.82131054613122,33.51100887200205 -86.82332334728943,33.51131870158742 -86.83317062553503\n",
            "Participant2_2019_November2019_Shot0127.jpg:33.50679887410579 -86.80424681374738,33.51400856087657 -86.80915731051758,33.51335332100002 -86.81056606651244,33.51288259528744 -86.81025033563954\n",
            "Participant2_2019_November2019_Shot0198.jpg:33.51188921624417 -86.78723301871021,33.509581833511554 -86.79156995015465,33.48366945634628 -86.78709029437786,33.4661537869968 -86.76220036737358\n",
            "Participant2_2019_November2019_Shot0267.jpg:33.49995290121026 -86.79772386799166,33.50518863176492 -86.80128439451919,33.51110099859621 -86.78887415090277,33.51283854022087 -86.79006323287805\n",
            "Participant2_2019_October2019_Shot0187.jpg:33.431744652524394 -86.78865692928392,33.41219602478363 -86.80614290578389,33.39369496042756 -86.78484564702798,33.44019957219545 -86.73004735468466,33.432929592595286 -86.71506989666614,33.42762893295855 -86.71850312293473\n",
            "Participant2_2019_October2019_Shot0260.jpg:33.51279925614481 -86.79913689098413,33.503445430924174 -86.81408181202305,33.520344991596886 -86.82636479131318,33.51047914218212 -86.87755295215898,33.51026907691468 -86.86043852784368\n",
            "Participant2_2019_October2019_Shot0332.jpg:33.51122148954738 -86.78863346669883,33.504151067453506 -86.80345417768335\n",
            "Participant2_2019_September2019_Shot0144.jpg:33.51200390143716 -86.78691735071938,33.50896338168748 -86.79209170963797,33.491358620011404 -86.78773912055813,33.48207783715377 -86.81082652404592,33.481094654107274 -86.8041556616955\n",
            "Participant2_2019_September2019_Shot0216.jpg:33.488167281458445 -86.80800831137027,33.4910545025647 -86.80109811986188,33.4971313972488 -86.8035525597632,33.49960965872394 -86.79837052923209\n"
          ]
        }
      ],
      "source": [
        "!head /content/100_trajectories.txt"
      ]
    },
    {
      "cell_type": "code",
      "execution_count": 3,
      "metadata": {
        "id": "NkAmoK1rmir4",
        "scrolled": true,
        "colab": {
          "base_uri": "https://localhost:8080/"
        },
        "outputId": "fd95dc4d-c4e7-4e38-a30f-02821721082f"
      },
      "outputs": [
        {
          "output_type": "stream",
          "name": "stdout",
          "text": [
            "Number of trajectories:  100\n"
          ]
        }
      ],
      "source": [
        "import os\n",
        "raw_trajectories = []\n",
        "\n",
        "with open('/content/100_trajectories.txt', 'r') as f:\n",
        "    for line in f:\n",
        "      line_values = line.split(\":\")\n",
        "      traj = line_values[1]\n",
        "      raw_trajectory = []\n",
        "      for x in traj.split(','):\n",
        "        lat, lon = x.split(\" \")\n",
        "        raw_trajectory.append((float(lat), float(lon)))\n",
        "      raw_trajectories.append(raw_trajectory)\n",
        "\n",
        "print(\"Number of trajectories: \", len(raw_trajectories))"
      ]
    },
    {
      "cell_type": "markdown",
      "metadata": {
        "id": "YqG6ckKQNTTd"
      },
      "source": [
        "### Install Fast map matching (FMM)*\n",
        "\n",
        "Reference: Can Yang & Gyozo Gidofalvi (2018) Fast map matching, an algorithm\n",
        "integrating hidden Markov model with precomputation, International Journal of Geographical Information Science, 32:3, 547-570, DOI: 10.1080/13658816.2017.1400548\n",
        "\n",
        "https://fmm-wiki.github.io/"
      ]
    },
    {
      "cell_type": "markdown",
      "metadata": {
        "id": "fiRZK9OFNh7A"
      },
      "source": [
        "As you may have noticed, the trajectories are not aligned with the underlying road network. i.e., a line between two consecutive points is a straight line and does not follow the actual roads.\n",
        "\n",
        "To do match those points to the road network, and add back intermediate points, we use FMM. First, we need to install it."
      ]
    },
    {
      "cell_type": "markdown",
      "metadata": {
        "id": "h6_BvJL-vbtC"
      },
      "source": [
        "**Install Prerequisites**"
      ]
    },
    {
      "cell_type": "code",
      "execution_count": 4,
      "metadata": {
        "id": "iplJ7HVLTzKM"
      },
      "outputs": [],
      "source": [
        "### TODO ###\n",
        "\n",
        "# install FMM \"requirements\" following https://fmm-wiki.github.io/docs/installation\n",
        "# You need to choose the right OS on that page\n",
        "# For example, on Ubuntu you can run\n",
        "# !sudo apt-get install libboost-dev libboost-serialization-dev gdal-bin libgdal-dev make cmake libbz2-dev libexpat1-dev swig python-dev"
      ]
    },
    {
      "cell_type": "code",
      "source": [
        "# Install all the requirements with:\n",
        "! sudo apt-get install libboost-dev libboost-serialization-dev \\\n",
        "gdal-bin libgdal-dev make cmake libbz2-dev libexpat1-dev swig python-dev"
      ],
      "metadata": {
        "id": "iGEFAlWmDjpp",
        "colab": {
          "base_uri": "https://localhost:8080/"
        },
        "outputId": "86d81c2d-c50c-4fcf-c756-d598d96779f5"
      },
      "execution_count": 5,
      "outputs": [
        {
          "output_type": "stream",
          "name": "stdout",
          "text": [
            "Reading package lists... Done\n",
            "Building dependency tree       \n",
            "Reading state information... Done\n",
            "libboost-dev is already the newest version (1.65.1.0ubuntu1).\n",
            "make is already the newest version (4.1-9.1ubuntu1).\n",
            "python-dev is already the newest version (2.7.15~rc1-1).\n",
            "gdal-bin is already the newest version (2.2.3+dfsg-2).\n",
            "libboost-serialization-dev is already the newest version (1.65.1.0ubuntu1).\n",
            "libgdal-dev is already the newest version (2.2.3+dfsg-2).\n",
            "swig is already the newest version (3.0.12-1).\n",
            "cmake is already the newest version (3.10.2-1ubuntu2.18.04.2).\n",
            "libbz2-dev is already the newest version (1.0.6-8.1ubuntu0.2).\n",
            "libexpat1-dev is already the newest version (2.2.5-3ubuntu0.7).\n",
            "The following package was automatically installed and is no longer required:\n",
            "  libnvidia-common-460\n",
            "Use 'sudo apt autoremove' to remove it.\n",
            "0 upgraded, 0 newly installed, 0 to remove and 20 not upgraded.\n"
          ]
        }
      ]
    },
    {
      "cell_type": "markdown",
      "metadata": {
        "id": "9Xe8NB3LvbtC"
      },
      "source": [
        "**Install FMM**"
      ]
    },
    {
      "cell_type": "code",
      "execution_count": 6,
      "metadata": {
        "id": "FD0bU9ZgHQDv",
        "colab": {
          "base_uri": "https://localhost:8080/"
        },
        "outputId": "10e238f9-200e-4fae-db13-e567d5e2751a"
      },
      "outputs": [
        {
          "output_type": "stream",
          "name": "stdout",
          "text": [
            "fatal: destination path 'fmm' already exists and is not an empty directory.\n"
          ]
        }
      ],
      "source": [
        "!git clone https://github.com/cyang-kth/fmm.git"
      ]
    },
    {
      "cell_type": "code",
      "execution_count": 7,
      "metadata": {
        "id": "VnY4uRtYSsZk",
        "colab": {
          "base_uri": "https://localhost:8080/"
        },
        "outputId": "3abc03bd-9809-4e8f-e241-15d755c18e1f"
      },
      "outputs": [
        {
          "output_type": "stream",
          "name": "stdout",
          "text": [
            "-- CMAKE version 3.22.6\n",
            "-- Set CMP0074 state to NEW\n",
            "-- Set CMP0086 state to NEW\n",
            "-- Set CMP0078 state to NEW\n",
            "-- \n",
            "No conda environment found in PATH!\n",
            "PATH=/opt/bin:/usr/local/nvidia/bin:/usr/local/cuda/bin:/usr/local/sbin:/usr/local/bin:/usr/sbin:/usr/bin:/sbin:/bin:/tools/node/bin:/tools/google-cloud-sdk/bin\n",
            "\n",
            "-- Could NOT find Conda (missing: CONDA_PREFIX) \n",
            "-- Non conda exist, search library in default path\n",
            "-- GDAL headers found at /usr/include/gdal\n",
            "-- GDAL library found at /usr/lib/libgdal.so\n",
            "-- Boost headers found at /usr/include\n",
            "-- Boost library found at /usr/lib/x86_64-linux-gnu/libboost_serialization.so\n",
            "-- Boost library version 1_65_1\n",
            "-- OpenMP_HEADERS found at \n",
            "-- OpenMP_CXX_LIBRARIES found at /usr/lib/gcc/x86_64-linux-gnu/7/libgomp.so;/usr/lib/x86_64-linux-gnu/libpthread.so\n",
            "-- Installation folder /usr/local\n",
            "-- Not install fmm headers\n",
            "-- Add python cmake information\n",
            "-- Swig version is 3.0.12\n",
            "-- Python header found at /usr/include/python3.7m\n",
            "-- Python library found at /usr/lib/x86_64-linux-gnu/libpython3.7m.so\n",
            "-- Python packages /usr/lib/python3/dist-packages\n",
            "-- Using swig add library\n",
            "-- Configuring done\n",
            "-- Generating done\n",
            "-- Build files have been written to: /content/fmm/build\n",
            "\u001b[35m\u001b[1mConsolidate compiler generated dependencies of target CONFIG\u001b[0m\n",
            "\u001b[35m\u001b[1mConsolidate compiler generated dependencies of target IO\u001b[0m\n",
            "\u001b[35m\u001b[1mConsolidate compiler generated dependencies of target ALGORITHM\u001b[0m\n",
            "\u001b[35m\u001b[1mConsolidate compiler generated dependencies of target CORE\u001b[0m\n",
            "[  1%] Built target CORE\n",
            "[  3%] Built target ALGORITHM\n",
            "[  7%] Built target IO\n",
            "[ 13%] Built target CONFIG\n",
            "\u001b[35m\u001b[1mConsolidate compiler generated dependencies of target UTIL\u001b[0m\n",
            "\u001b[35m\u001b[1mConsolidate compiler generated dependencies of target MM_OBJ\u001b[0m\n",
            "\u001b[35m\u001b[1mConsolidate compiler generated dependencies of target NETWORK\u001b[0m\n",
            "\u001b[35m\u001b[1mConsolidate compiler generated dependencies of target FMM_OBJ\u001b[0m\n",
            "[ 15%] Built target UTIL\n",
            "\u001b[35m\u001b[1mConsolidate compiler generated dependencies of target STMATCH_OBJ\u001b[0m\n",
            "[ 19%] Built target MM_OBJ\n",
            "\u001b[35m\u001b[1mConsolidate compiler generated dependencies of target H3_OBJ\u001b[0m\n",
            "[ 50%] Built target H3_OBJ\n",
            "[ 57%] Built target NETWORK\n",
            "[ 63%] Built target STMATCH_OBJ\n",
            "[ 65%] Built target pyfmm_swig_compilation\n",
            "[ 78%] Built target FMM_OBJ\n",
            "[ 80%] Built target FMMLIB\n",
            "\u001b[35m\u001b[1mConsolidate compiler generated dependencies of target ubodt_gen\u001b[0m\n",
            "\u001b[35m\u001b[1mConsolidate compiler generated dependencies of target fmm\u001b[0m\n",
            "\u001b[35m\u001b[1mConsolidate compiler generated dependencies of target h3mm\u001b[0m\n",
            "\u001b[35m\u001b[1mConsolidate compiler generated dependencies of target stmatch\u001b[0m\n",
            "[ 84%] Built target ubodt_gen\n",
            "[ 88%] Built target fmm\n",
            "[ 92%] Built target stmatch\n",
            "\u001b[35m\u001b[1mConsolidate compiler generated dependencies of target pyfmm\u001b[0m\n",
            "[ 96%] Built target h3mm\n",
            "[100%] Built target pyfmm\n",
            "[  1%] Built target CORE\n",
            "[  3%] Built target ALGORITHM\n",
            "[  9%] Built target CONFIG\n",
            "[ 13%] Built target IO\n",
            "[ 15%] Built target UTIL\n",
            "[ 23%] Built target NETWORK\n",
            "[ 26%] Built target MM_OBJ\n",
            "[ 40%] Built target FMM_OBJ\n",
            "[ 46%] Built target STMATCH_OBJ\n",
            "[ 76%] Built target H3_OBJ\n",
            "[ 78%] Built target FMMLIB\n",
            "[ 82%] Built target fmm\n",
            "[ 86%] Built target ubodt_gen\n",
            "[ 90%] Built target stmatch\n",
            "[ 94%] Built target h3mm\n",
            "[ 96%] Built target pyfmm_swig_compilation\n",
            "[100%] Built target pyfmm\n",
            "\u001b[36mInstall the project...\u001b[0m\n",
            "-- Install configuration: \"Release\"\n",
            "-- Up-to-date: /usr/local/lib/libFMMLIB.so\n",
            "-- Up-to-date: /usr/local/bin/fmm\n",
            "-- Up-to-date: /usr/local/bin/ubodt_gen\n",
            "-- Up-to-date: /usr/local/bin/stmatch\n",
            "-- Up-to-date: /usr/local/bin/h3mm\n",
            "-- Up-to-date: /usr/lib/python3/dist-packages/_fmm.so\n",
            "-- Up-to-date: /usr/lib/python3/dist-packages/fmm.py\n"
          ]
        }
      ],
      "source": [
        "# !!!! This could take ~ 6 mintues !!!!\n",
        "# it may not work and requires for password, etc.\n",
        "# in this case, go to your folder using console to compile and install FMM\n",
        "\n",
        "import os\n",
        "# change working directory\n",
        "os.chdir(\"fmm\")\n",
        "\n",
        "if not os.path.exists('build'):\n",
        "  os.mkdir('build')\n",
        "# ! mkdir build\n",
        "os.chdir(\"build\")\n",
        "# ! cd build\n",
        "! cmake ..\n",
        "! make -j4\n",
        "! sudo make install"
      ]
    },
    {
      "cell_type": "code",
      "execution_count": 8,
      "metadata": {
        "id": "YbnJHLHaRu_U",
        "colab": {
          "base_uri": "https://localhost:8080/"
        },
        "outputId": "b1825041-53cb-4261-8c7b-8cad9a384361"
      },
      "outputs": [
        {
          "output_type": "stream",
          "name": "stdout",
          "text": [
            "[\u001b[32minfo\u001b[m][fmm_app_config.cpp:49 ] Start reading FMM configuration from arguments\n",
            "fmm argument lists:\n",
            "--ubodt (required) <string>: Ubodt file name\n",
            "--network (required) <string>: Network file name\n",
            "--network_id (optional) <string>: Network id name (id)\n",
            "--source (optional) <string>: Network source name (source)\n",
            "--target (optional) <string>: Network target name (target)\n",
            "--gps (required) <string>: GPS file name\n",
            "--gps_id (optional) <string>: GPS id name (id)\n",
            "--gps_x (optional) <string>: GPS x name (x)\n",
            "--gps_y (optional) <string>: GPS y name (y)\n",
            "--gps_timestamp (optional) <string>: GPS timestamp name (timestamp)\n",
            "--gps_geom (optional) <string>: GPS geometry name (geom)\n",
            "--gps_point (optional): if specified read input data as gps point, otherwise (default) read input data as trajectory\n",
            "--output (required) <string>: Output file name\n",
            "--output_fields (optional) <string>: Output fields\n",
            "  opath,cpath,tpath,mgeom,pgeom,\n",
            "  offset,error,spdist,tp,ep,length,duration,speed,all\n",
            "-k/--candidates (optional) <int>: Number of candidates (8)\n",
            "-r/--radius (optional) <double>: search radius (network data unit) (300)\n",
            "-e/--error (optional) <double>: GPS error (network data unit) (50)\n",
            "--reverse_tolerance (optional) <double>: proportion of reverse movement allowed on an edge\n",
            "-l/--log_level (optional) <int>: log level (2)\n",
            "-s/--step (optional) <int>: progress report step (100)\n",
            "--use_omp: use OpenMP for multithreaded map matching\n",
            "-h/--help:print help information\n",
            "For xml configuration, check example folder\n"
          ]
        }
      ],
      "source": [
        "# Verfication of installation\n",
        "!fmm"
      ]
    },
    {
      "cell_type": "code",
      "execution_count": 9,
      "metadata": {
        "id": "fwiIplQlU4wt",
        "colab": {
          "base_uri": "https://localhost:8080/"
        },
        "outputId": "ea02fe5c-c092-4581-ae30-4232c64a4b99"
      },
      "outputs": [
        {
          "output_type": "execute_result",
          "data": {
            "text/plain": [
              "256"
            ]
          },
          "metadata": {},
          "execution_count": 9
        }
      ],
      "source": [
        "# Change to the parent folder which contains fmm_test.py\n",
        "if os.getcwd() != \"/content/fmm/example/python\":\n",
        "  os.chdir(\"/content/fmm/example/python\")\n",
        "os.system('python fmm_test.py')"
      ]
    },
    {
      "cell_type": "code",
      "execution_count": 10,
      "metadata": {
        "id": "lqDLrAe1Gg4n",
        "colab": {
          "base_uri": "https://localhost:8080/"
        },
        "outputId": "14bb80cf-910d-4265-8f90-c1269599ea3d"
      },
      "outputs": [
        {
          "output_type": "stream",
          "name": "stdout",
          "text": [
            "Looking in indexes: https://pypi.org/simple, https://us-python.pkg.dev/colab-wheels/public/simple/\n",
            "Requirement already satisfied: osmnx in /usr/local/lib/python3.7/dist-packages (1.1.2)\n",
            "Requirement already satisfied: Rtree>=0.9 in /usr/local/lib/python3.7/dist-packages (from osmnx) (1.0.0)\n",
            "Requirement already satisfied: pandas>=1.3 in /usr/local/lib/python3.7/dist-packages (from osmnx) (1.3.5)\n",
            "Requirement already satisfied: Shapely<2.0,>=1.7 in /usr/local/lib/python3.7/dist-packages (from osmnx) (1.8.2)\n",
            "Requirement already satisfied: numpy>=1.21 in /usr/local/lib/python3.7/dist-packages (from osmnx) (1.21.6)\n",
            "Requirement already satisfied: networkx>=2.6 in /usr/local/lib/python3.7/dist-packages (from osmnx) (2.6.3)\n",
            "Requirement already satisfied: pyproj>=3.2 in /usr/local/lib/python3.7/dist-packages (from osmnx) (3.2.1)\n",
            "Requirement already satisfied: matplotlib>=3.4 in /usr/local/lib/python3.7/dist-packages (from osmnx) (3.5.3)\n",
            "Requirement already satisfied: geopandas>=0.10 in /usr/local/lib/python3.7/dist-packages (from osmnx) (0.10.2)\n",
            "Requirement already satisfied: requests>=2.26 in /usr/local/lib/python3.7/dist-packages (from osmnx) (2.28.1)\n",
            "Requirement already satisfied: fiona>=1.8 in /usr/local/lib/python3.7/dist-packages (from geopandas>=0.10->osmnx) (1.8.21)\n",
            "Requirement already satisfied: six>=1.7 in /usr/local/lib/python3.7/dist-packages (from fiona>=1.8->geopandas>=0.10->osmnx) (1.15.0)\n",
            "Requirement already satisfied: click>=4.0 in /usr/local/lib/python3.7/dist-packages (from fiona>=1.8->geopandas>=0.10->osmnx) (7.1.2)\n",
            "Requirement already satisfied: munch in /usr/local/lib/python3.7/dist-packages (from fiona>=1.8->geopandas>=0.10->osmnx) (2.5.0)\n",
            "Requirement already satisfied: setuptools in /usr/local/lib/python3.7/dist-packages (from fiona>=1.8->geopandas>=0.10->osmnx) (57.4.0)\n",
            "Requirement already satisfied: certifi in /usr/local/lib/python3.7/dist-packages (from fiona>=1.8->geopandas>=0.10->osmnx) (2022.6.15)\n",
            "Requirement already satisfied: cligj>=0.5 in /usr/local/lib/python3.7/dist-packages (from fiona>=1.8->geopandas>=0.10->osmnx) (0.7.2)\n",
            "Requirement already satisfied: attrs>=17 in /usr/local/lib/python3.7/dist-packages (from fiona>=1.8->geopandas>=0.10->osmnx) (22.1.0)\n",
            "Requirement already satisfied: click-plugins>=1.0 in /usr/local/lib/python3.7/dist-packages (from fiona>=1.8->geopandas>=0.10->osmnx) (1.1.1)\n",
            "Requirement already satisfied: kiwisolver>=1.0.1 in /usr/local/lib/python3.7/dist-packages (from matplotlib>=3.4->osmnx) (1.4.4)\n",
            "Requirement already satisfied: packaging>=20.0 in /usr/local/lib/python3.7/dist-packages (from matplotlib>=3.4->osmnx) (21.3)\n",
            "Requirement already satisfied: python-dateutil>=2.7 in /usr/local/lib/python3.7/dist-packages (from matplotlib>=3.4->osmnx) (2.8.2)\n",
            "Requirement already satisfied: cycler>=0.10 in /usr/local/lib/python3.7/dist-packages (from matplotlib>=3.4->osmnx) (0.11.0)\n",
            "Requirement already satisfied: pillow>=6.2.0 in /usr/local/lib/python3.7/dist-packages (from matplotlib>=3.4->osmnx) (7.1.2)\n",
            "Requirement already satisfied: pyparsing>=2.2.1 in /usr/local/lib/python3.7/dist-packages (from matplotlib>=3.4->osmnx) (3.0.9)\n",
            "Requirement already satisfied: fonttools>=4.22.0 in /usr/local/lib/python3.7/dist-packages (from matplotlib>=3.4->osmnx) (4.36.0)\n",
            "Requirement already satisfied: typing-extensions in /usr/local/lib/python3.7/dist-packages (from kiwisolver>=1.0.1->matplotlib>=3.4->osmnx) (4.1.1)\n",
            "Requirement already satisfied: pytz>=2017.3 in /usr/local/lib/python3.7/dist-packages (from pandas>=1.3->osmnx) (2022.2)\n",
            "Requirement already satisfied: idna<4,>=2.5 in /usr/local/lib/python3.7/dist-packages (from requests>=2.26->osmnx) (2.10)\n",
            "Requirement already satisfied: urllib3<1.27,>=1.21.1 in /usr/local/lib/python3.7/dist-packages (from requests>=2.26->osmnx) (1.24.3)\n",
            "Requirement already satisfied: charset-normalizer<3,>=2 in /usr/local/lib/python3.7/dist-packages (from requests>=2.26->osmnx) (2.1.0)\n"
          ]
        }
      ],
      "source": [
        "# Install osmnx package to prepare the network, that will be used as input to FMM\n",
        "!pip install osmnx"
      ]
    },
    {
      "cell_type": "markdown",
      "metadata": {
        "id": "d0jsJV-7WOJh"
      },
      "source": [
        "### Steps to run FMM after installation: \n",
        "1- Prepare the network using osmnx \\\n",
        "2- Run the match(...) function"
      ]
    },
    {
      "cell_type": "code",
      "execution_count": 11,
      "metadata": {
        "id": "6-wZymO8WiGQ",
        "colab": {
          "base_uri": "https://localhost:8080/"
        },
        "outputId": "b1215dd9-7648-4af8-f8a3-f35fda407fe2"
      },
      "outputs": [
        {
          "output_type": "stream",
          "name": "stdout",
          "text": [
            "osmnx version 1.1.2\n"
          ]
        },
        {
          "output_type": "stream",
          "name": "stderr",
          "text": [
            "/usr/local/lib/python3.7/dist-packages/ipykernel_launcher.py:29: UserWarning: Column names longer than 10 characters will be truncated when saved to ESRI Shapefile.\n",
            "WARNING:fiona._env:Normalized/laundered field name: 'street_count' to 'street_cou'\n"
          ]
        },
        {
          "output_type": "stream",
          "name": "stdout",
          "text": [
            "--- 28.58013939857483 seconds ---\n"
          ]
        }
      ],
      "source": [
        "# !!!! This could take ~ 2 mintues !!!!\n",
        "\n",
        "import osmnx as ox\n",
        "import time\n",
        "from shapely.geometry import Polygon\n",
        "import os\n",
        "import numpy as np\n",
        "from fmm import Network,NetworkGraph,STMATCH,STMATCHConfig\n",
        "\n",
        "def save_graph_shapefile_directional(G, filepath=None, encoding=\"utf-8\"):\n",
        "    # default filepath if none was provided\n",
        "    if filepath is None:\n",
        "        filepath = os.path.join(ox.settings.data_folder, \"graph_shapefile\")\n",
        "\n",
        "    # if save folder does not already exist, create it (shapefiles\n",
        "    # get saved as set of files)\n",
        "    if not filepath == \"\" and not os.path.exists(filepath):\n",
        "        os.makedirs(filepath)\n",
        "    filepath_nodes = os.path.join(filepath, \"nodes.shp\")\n",
        "    filepath_edges = os.path.join(filepath, \"edges.shp\")\n",
        "\n",
        "    # convert undirected graph to gdfs and stringify non-numeric columns\n",
        "    gdf_nodes, gdf_edges = ox.utils_graph.graph_to_gdfs(G)\n",
        "    gdf_nodes = ox.io._stringify_nonnumeric_cols(gdf_nodes)\n",
        "    gdf_edges = ox.io._stringify_nonnumeric_cols(gdf_edges)\n",
        "    # We need an unique ID for each edge\n",
        "    gdf_edges[\"fid\"] = np.arange(0, gdf_edges.shape[0], dtype='int')\n",
        "    # save the nodes and edges as separate ESRI shapefiles\n",
        "    gdf_nodes.to_file(filepath_nodes, encoding=encoding)\n",
        "    gdf_edges.to_file(filepath_edges, encoding=encoding)\n",
        "\n",
        "print(\"osmnx version\",ox.__version__)\n",
        "\n",
        "# !!! Download by a bounding box # !!!\n",
        "# -------------------------------------------------\n",
        "bounds = (-86.9671,-86.5901,33.3472,33.6598)\n",
        "# -------------------------------------------------\n",
        "x1,x2,y1,y2 = bounds\n",
        "boundary_polygon = Polygon([(x1,y1),(x2,y1),(x2,y2),(x1,y2)])\n",
        "G = ox.graph_from_polygon(boundary_polygon, network_type='drive')\n",
        "start_time = time.time()\n",
        "save_graph_shapefile_directional(G, filepath='./network-new')\n",
        "print(\"--- %s seconds ---\" % (time.time() - start_time))"
      ]
    },
    {
      "cell_type": "code",
      "execution_count": 12,
      "metadata": {
        "id": "fnws2b809HnU",
        "colab": {
          "base_uri": "https://localhost:8080/"
        },
        "outputId": "bc509ede-0eb6-4f8d-ebf0-637769ab9724"
      },
      "outputs": [
        {
          "output_type": "stream",
          "name": "stdout",
          "text": [
            "mv: cannot stat '/content/network-new': No such file or directory\n"
          ]
        }
      ],
      "source": [
        "# copy network folder to /content/fmm/example/python/network-new\n",
        "!mv '/content/network-new' '/content/fmm/example/python/network-new'"
      ]
    },
    {
      "cell_type": "code",
      "execution_count": 13,
      "metadata": {
        "id": "AvjtFeIHE7qu"
      },
      "outputs": [],
      "source": [
        "# match(...) function\n",
        "\n",
        "def match(path,points):\n",
        "  network = Network(path,\"fid\",\"u\",\"v\")\n",
        "  graph = NetworkGraph(network)\n",
        "  print (graph.get_num_vertices())\n",
        "  model = STMATCH(network,graph)\n",
        "  wkt  = str(points)\n",
        "  config = STMATCHConfig()\n",
        "  config.k = 4\n",
        "  config.gps_error = 0.5\n",
        "  config.radius = 0.4\n",
        "  config.vmax = 30;\n",
        "  config.factor =1.5\n",
        "  result = model.match_wkt(wkt,config)\n",
        "  print (type(result))\n",
        "  # print (\"Opath \",list(result.opath))\n",
        "  # print (\"Cpath \",list(result.cpath))\n",
        "  # print (\"WKT \",result.mgeom.export_wkt())\n",
        "  return result.mgeom.export_wkt()"
      ]
    },
    {
      "cell_type": "code",
      "execution_count": 14,
      "metadata": {
        "id": "G6gL31vPYx_g"
      },
      "outputs": [],
      "source": [
        "def match_trajs(network_path, traj):\n",
        "  \"\"\"\n",
        "  match [traj] on [network_path]. [traj] should be [(lon1, lat1), (lon2, lat2), ...]\n",
        "  Output: matched traj as \"LINESTRING(-86.797211 33.499194, -86.7973...\"\n",
        "  \"\"\"\n",
        "  from shapely.geometry import LineString\n",
        "  # import geopandas !!\n",
        "\n",
        "  traj_ = LineString(traj)\n",
        "  # print(traj_)\n",
        "  return match(network_path, traj_)"
      ]
    },
    {
      "cell_type": "code",
      "source": [
        "import csv\n",
        "from shapely.geometry import Point\n",
        "from collections import defaultdict\n",
        "\n",
        "edges_path = '/content/fmm/example/python/network-new/edges.shp'\n",
        "\n",
        "matched_trajectories = []\n",
        "\n",
        "# !! FMM the first x values !! \n",
        "x = 10\n",
        "\n",
        "for traj in raw_trajectories[:x]:\n",
        "  # print(img_id, traj)\n",
        "  # swap (lat, lon) --> (lon, lat) as FMM requires lon before lat\n",
        "  traj_m = [(sub[1], sub[0]) for sub in traj]\n",
        "  fmm_traj = match_trajs('/content/fmm/example/python/network-new/edges.shp', traj_m)\n",
        "  # remove LINESTRING and extra parentheses\n",
        "  fmm_traj = fmm_traj.split(\"LINESTRING(\")[1]\n",
        "  fmm_traj = fmm_traj.split(\")\")[0]\n",
        "  traj_list = []\n",
        "  for lon_lat in fmm_traj.split(','):\n",
        "    lon__lat = lon_lat.split(\" \")\n",
        "    # print(lon__lat)\n",
        "    if len(lon__lat) == 2:\n",
        "      traj_list.append((float(lon__lat[1]), float(lon__lat[0])))\n",
        "    else:\n",
        "      print(\"!! lon and lat should be 2 !!\", lon__lat)\n",
        "  matched_trajectories.append(traj_list)"
      ],
      "metadata": {
        "colab": {
          "base_uri": "https://localhost:8080/"
        },
        "id": "05j4b2TaCCpj",
        "outputId": "76e476de-8722-4770-9f9c-b895cbf6ce7a"
      },
      "execution_count": 15,
      "outputs": [
        {
          "output_type": "stream",
          "name": "stdout",
          "text": [
            "32332\n",
            "<class 'fmm.PyMatchResult'>\n",
            "32332\n",
            "<class 'fmm.PyMatchResult'>\n",
            "32332\n",
            "<class 'fmm.PyMatchResult'>\n",
            "32332\n",
            "<class 'fmm.PyMatchResult'>\n",
            "32332\n",
            "<class 'fmm.PyMatchResult'>\n",
            "32332\n",
            "<class 'fmm.PyMatchResult'>\n",
            "32332\n",
            "<class 'fmm.PyMatchResult'>\n",
            "32332\n",
            "<class 'fmm.PyMatchResult'>\n",
            "32332\n",
            "<class 'fmm.PyMatchResult'>\n",
            "32332\n",
            "<class 'fmm.PyMatchResult'>\n"
          ]
        }
      ]
    },
    {
      "cell_type": "markdown",
      "source": [
        "### Plot using Folium"
      ],
      "metadata": {
        "id": "yx-L6FGy1_Vo"
      }
    },
    {
      "cell_type": "code",
      "source": [
        "! pip install folium"
      ],
      "metadata": {
        "id": "9PFI15sMu6MJ",
        "colab": {
          "base_uri": "https://localhost:8080/"
        },
        "outputId": "3ff3f44e-e564-4663-9988-6f4626dab4f8"
      },
      "execution_count": 18,
      "outputs": [
        {
          "output_type": "stream",
          "name": "stdout",
          "text": [
            "Looking in indexes: https://pypi.org/simple, https://us-python.pkg.dev/colab-wheels/public/simple/\n",
            "Requirement already satisfied: folium in /usr/local/lib/python3.7/dist-packages (0.12.1.post1)\n",
            "Requirement already satisfied: numpy in /usr/local/lib/python3.7/dist-packages (from folium) (1.21.6)\n",
            "Requirement already satisfied: jinja2>=2.9 in /usr/local/lib/python3.7/dist-packages (from folium) (2.11.3)\n",
            "Requirement already satisfied: branca>=0.3.0 in /usr/local/lib/python3.7/dist-packages (from folium) (0.5.0)\n",
            "Requirement already satisfied: requests in /usr/local/lib/python3.7/dist-packages (from folium) (2.28.1)\n",
            "Requirement already satisfied: MarkupSafe>=0.23 in /usr/local/lib/python3.7/dist-packages (from jinja2>=2.9->folium) (2.0.1)\n",
            "Requirement already satisfied: idna<4,>=2.5 in /usr/local/lib/python3.7/dist-packages (from requests->folium) (2.10)\n",
            "Requirement already satisfied: certifi>=2017.4.17 in /usr/local/lib/python3.7/dist-packages (from requests->folium) (2022.6.15)\n",
            "Requirement already satisfied: urllib3<1.27,>=1.21.1 in /usr/local/lib/python3.7/dist-packages (from requests->folium) (1.24.3)\n",
            "Requirement already satisfied: charset-normalizer<3,>=2 in /usr/local/lib/python3.7/dist-packages (from requests->folium) (2.1.0)\n"
          ]
        }
      ]
    },
    {
      "cell_type": "code",
      "source": [
        "import random\n",
        "import folium\n",
        "\n",
        "map = folium.Map(zoom_start=13, height=700, location=[33.5186, -86.8104])\n",
        "\n",
        "# choose random trajectory to plot\n",
        "x = random.randrange(len(matched_trajectories))\n",
        "\n",
        "# original trajectory\n",
        "folium.PolyLine(raw_trajectories[x], color='red', radiuses=2, connect=True).add_to(map)\n",
        "# matched trajectory\n",
        "folium.PolyLine(matched_trajectories[x], color='green', radiuses=2, connect=True).add_to(map)\n",
        "\n",
        "map"
      ],
      "metadata": {
        "colab": {
          "base_uri": "https://localhost:8080/",
          "height": 1000
        },
        "id": "hD9vKare8Ulp",
        "outputId": "2af9a67e-a186-41d5-ece7-27924416235b"
      },
      "execution_count": 20,
      "outputs": [
        {
          "output_type": "execute_result",
          "data": {
            "text/plain": [
              "<folium.folium.Map at 0x7f0152656810>"
            ],
            "text/html": [
              "<div style=\"width:100%;\"><div style=\"position:relative;width:100%;height:0;padding-bottom:60%;\"><span style=\"color:#565656\">Make this Notebook Trusted to load map: File -> Trust Notebook</span><iframe srcdoc=\"&lt;!DOCTYPE html&gt;\n",
              "&lt;head&gt;    \n",
              "    &lt;meta http-equiv=&quot;content-type&quot; content=&quot;text/html; charset=UTF-8&quot; /&gt;\n",
              "    \n",
              "        &lt;script&gt;\n",
              "            L_NO_TOUCH = false;\n",
              "            L_DISABLE_3D = false;\n",
              "        &lt;/script&gt;\n",
              "    \n",
              "    &lt;style&gt;html, body {width: 100%;height: 100%;margin: 0;padding: 0;}&lt;/style&gt;\n",
              "    &lt;style&gt;#map {position:absolute;top:0;bottom:0;right:0;left:0;}&lt;/style&gt;\n",
              "    &lt;script src=&quot;https://cdn.jsdelivr.net/npm/leaflet@1.6.0/dist/leaflet.js&quot;&gt;&lt;/script&gt;\n",
              "    &lt;script src=&quot;https://code.jquery.com/jquery-1.12.4.min.js&quot;&gt;&lt;/script&gt;\n",
              "    &lt;script src=&quot;https://maxcdn.bootstrapcdn.com/bootstrap/3.2.0/js/bootstrap.min.js&quot;&gt;&lt;/script&gt;\n",
              "    &lt;script src=&quot;https://cdnjs.cloudflare.com/ajax/libs/Leaflet.awesome-markers/2.0.2/leaflet.awesome-markers.js&quot;&gt;&lt;/script&gt;\n",
              "    &lt;link rel=&quot;stylesheet&quot; href=&quot;https://cdn.jsdelivr.net/npm/leaflet@1.6.0/dist/leaflet.css&quot;/&gt;\n",
              "    &lt;link rel=&quot;stylesheet&quot; href=&quot;https://maxcdn.bootstrapcdn.com/bootstrap/3.2.0/css/bootstrap.min.css&quot;/&gt;\n",
              "    &lt;link rel=&quot;stylesheet&quot; href=&quot;https://maxcdn.bootstrapcdn.com/bootstrap/3.2.0/css/bootstrap-theme.min.css&quot;/&gt;\n",
              "    &lt;link rel=&quot;stylesheet&quot; href=&quot;https://maxcdn.bootstrapcdn.com/font-awesome/4.6.3/css/font-awesome.min.css&quot;/&gt;\n",
              "    &lt;link rel=&quot;stylesheet&quot; href=&quot;https://cdnjs.cloudflare.com/ajax/libs/Leaflet.awesome-markers/2.0.2/leaflet.awesome-markers.css&quot;/&gt;\n",
              "    &lt;link rel=&quot;stylesheet&quot; href=&quot;https://cdn.jsdelivr.net/gh/python-visualization/folium/folium/templates/leaflet.awesome.rotate.min.css&quot;/&gt;\n",
              "    \n",
              "            &lt;meta name=&quot;viewport&quot; content=&quot;width=device-width,\n",
              "                initial-scale=1.0, maximum-scale=1.0, user-scalable=no&quot; /&gt;\n",
              "            &lt;style&gt;\n",
              "                #map_67f8dc87e79fa82eb26f7f6217c5879f {\n",
              "                    position: relative;\n",
              "                    width: 100.0%;\n",
              "                    height: 700.0px;\n",
              "                    left: 0.0%;\n",
              "                    top: 0.0%;\n",
              "                }\n",
              "            &lt;/style&gt;\n",
              "        \n",
              "&lt;/head&gt;\n",
              "&lt;body&gt;    \n",
              "    \n",
              "            &lt;div class=&quot;folium-map&quot; id=&quot;map_67f8dc87e79fa82eb26f7f6217c5879f&quot; &gt;&lt;/div&gt;\n",
              "        \n",
              "&lt;/body&gt;\n",
              "&lt;script&gt;    \n",
              "    \n",
              "            var map_67f8dc87e79fa82eb26f7f6217c5879f = L.map(\n",
              "                &quot;map_67f8dc87e79fa82eb26f7f6217c5879f&quot;,\n",
              "                {\n",
              "                    center: [33.5186, -86.8104],\n",
              "                    crs: L.CRS.EPSG3857,\n",
              "                    zoom: 13,\n",
              "                    zoomControl: true,\n",
              "                    preferCanvas: false,\n",
              "                }\n",
              "            );\n",
              "\n",
              "            \n",
              "\n",
              "        \n",
              "    \n",
              "            var tile_layer_d1b350d117791ce0577a25223ca2921d = L.tileLayer(\n",
              "                &quot;https://{s}.tile.openstreetmap.org/{z}/{x}/{y}.png&quot;,\n",
              "                {&quot;attribution&quot;: &quot;Data by \\u0026copy; \\u003ca href=\\&quot;http://openstreetmap.org\\&quot;\\u003eOpenStreetMap\\u003c/a\\u003e, under \\u003ca href=\\&quot;http://www.openstreetmap.org/copyright\\&quot;\\u003eODbL\\u003c/a\\u003e.&quot;, &quot;detectRetina&quot;: false, &quot;maxNativeZoom&quot;: 18, &quot;maxZoom&quot;: 18, &quot;minZoom&quot;: 0, &quot;noWrap&quot;: false, &quot;opacity&quot;: 1, &quot;subdomains&quot;: &quot;abc&quot;, &quot;tms&quot;: false}\n",
              "            ).addTo(map_67f8dc87e79fa82eb26f7f6217c5879f);\n",
              "        \n",
              "    \n",
              "            var poly_line_2f30f783aea33993836fa0cc2f526c05 = L.polyline(\n",
              "                [[33.51200390143716, -86.78691735071938], [33.50896338168748, -86.79209170963797], [33.491358620011404, -86.78773912055813], [33.48207783715377, -86.81082652404592], [33.481094654107274, -86.8041556616955]],\n",
              "                {&quot;bubblingMouseEvents&quot;: true, &quot;color&quot;: &quot;red&quot;, &quot;dashArray&quot;: null, &quot;dashOffset&quot;: null, &quot;fill&quot;: false, &quot;fillColor&quot;: &quot;red&quot;, &quot;fillOpacity&quot;: 0.2, &quot;fillRule&quot;: &quot;evenodd&quot;, &quot;lineCap&quot;: &quot;round&quot;, &quot;lineJoin&quot;: &quot;round&quot;, &quot;noClip&quot;: false, &quot;opacity&quot;: 1.0, &quot;smoothFactor&quot;: 1.0, &quot;stroke&quot;: true, &quot;weight&quot;: 3}\n",
              "            ).addTo(map_67f8dc87e79fa82eb26f7f6217c5879f);\n",
              "        \n",
              "    \n",
              "            var poly_line_4f706318691f877b2603ecc6357f866d = L.polyline(\n",
              "                [[33.511574, -86.787323], [33.511618, -86.787369], [33.51175, -86.787505], [33.511408, -86.788245], [33.511287, -86.788504], [33.511225, -86.788637], [33.511197, -86.788692], [33.511101, -86.788889], [33.510777, -86.789574], [33.51066, -86.789819], [33.510457, -86.790265], [33.509946, -86.789942], [33.50977, -86.789832], [33.509709, -86.789787], [33.509442, -86.789591], [33.509363, -86.789539], [33.509317, -86.789641], [33.509243, -86.789806], [33.509206, -86.789888], [33.50914, -86.790032], [33.50889, -86.790533], [33.508817, -86.790667], [33.508548, -86.791201], [33.50844, -86.791594], [33.508476, -86.791909], [33.508664, -86.792047], [33.508817, -86.792072], [33.508891, -86.792076], [33.508967, -86.792038], [33.509033, -86.791984], [33.509088, -86.791901], [33.509126, -86.791824], [33.509141, -86.791752], [33.509147, -86.791658], [33.509138, -86.791569], [33.509115, -86.791492], [33.509081, -86.791427], [33.509007, -86.791333], [33.50889, -86.791244], [33.508722, -86.791084], [33.508337, -86.790884], [33.507793, -86.7906], [33.507508, -86.79047], [33.506877, -86.790246], [33.505673, -86.789939], [33.505411, -86.789879], [33.505117, -86.789825], [33.504763, -86.789779], [33.5039, -86.789716], [33.503025, -86.789647], [33.50277, -86.789627], [33.502252, -86.789592], [33.501626, -86.78955], [33.500605, -86.789468], [33.500403, -86.789486], [33.499893, -86.789431], [33.497546, -86.789201], [33.497027, -86.789124], [33.49662, -86.789003], [33.496145, -86.788771], [33.495843, -86.788573], [33.495672, -86.78846], [33.495356, -86.788227], [33.495097, -86.788031], [33.49477, -86.787783], [33.494323, -86.78746], [33.493901, -86.787358], [33.493404, -86.787292], [33.491459, -86.78725], [33.491383, -86.787405], [33.491234, -86.787718], [33.489921, -86.790478], [33.48906, -86.792413], [33.488808, -86.792984], [33.488753, -86.793157], [33.488655, -86.793364], [33.488623, -86.793431], [33.488606, -86.793468], [33.488586, -86.793509], [33.488342, -86.794021], [33.48823, -86.794326], [33.488132, -86.794765], [33.488115, -86.794872], [33.488044, -86.795306], [33.488013, -86.795493], [33.487955, -86.795662], [33.487808, -86.795973], [33.487589, -86.796274], [33.485999, -86.798246], [33.485759, -86.798549], [33.485458, -86.798847], [33.48424, -86.799704], [33.483598, -86.80025], [33.48335, -86.800518], [33.483139, -86.800819], [33.482981, -86.801111], [33.482875, -86.801393], [33.482762, -86.80174], [33.482692, -86.802089], [33.482477, -86.804402], [33.48243, -86.804835], [33.48238, -86.805054], [33.482256, -86.805349], [33.482312, -86.805474], [33.482379, -86.805559], [33.482449, -86.805737], [33.482514, -86.805894], [33.482554, -86.805994], [33.482526, -86.806404], [33.482511, -86.806613], [33.482703, -86.806838], [33.482843, -86.807051], [33.482956, -86.807222], [33.483105, -86.807541], [33.482472, -86.808676], [33.482632, -86.808856], [33.482377, -86.809334], [33.482083, -86.809951], [33.482298, -86.810108], [33.482034, -86.810751], [33.482298, -86.810108], [33.482083, -86.809951], [33.482377, -86.809334], [33.482632, -86.808856], [33.482472, -86.808676], [33.483105, -86.807541], [33.482956, -86.807222], [33.482843, -86.807051], [33.482703, -86.806838], [33.482511, -86.806613], [33.482526, -86.806404], [33.482554, -86.805994], [33.482514, -86.805894], [33.482449, -86.805737], [33.482379, -86.805559], [33.482312, -86.805474], [33.482256, -86.805349], [33.48238, -86.805054], [33.48243, -86.804835], [33.482477, -86.804402], [33.482227, -86.80431], [33.482033, -86.804193], [33.481955, -86.804115], [33.481824, -86.804005], [33.481662, -86.803803], [33.481586, -86.803764]],\n",
              "                {&quot;bubblingMouseEvents&quot;: true, &quot;color&quot;: &quot;green&quot;, &quot;dashArray&quot;: null, &quot;dashOffset&quot;: null, &quot;fill&quot;: false, &quot;fillColor&quot;: &quot;green&quot;, &quot;fillOpacity&quot;: 0.2, &quot;fillRule&quot;: &quot;evenodd&quot;, &quot;lineCap&quot;: &quot;round&quot;, &quot;lineJoin&quot;: &quot;round&quot;, &quot;noClip&quot;: false, &quot;opacity&quot;: 1.0, &quot;smoothFactor&quot;: 1.0, &quot;stroke&quot;: true, &quot;weight&quot;: 3}\n",
              "            ).addTo(map_67f8dc87e79fa82eb26f7f6217c5879f);\n",
              "        \n",
              "&lt;/script&gt;\" style=\"position:absolute;width:100%;height:100%;left:0;top:0;border:none !important;\" allowfullscreen webkitallowfullscreen mozallowfullscreen></iframe></div></div>"
            ]
          },
          "metadata": {},
          "execution_count": 20
        }
      ]
    },
    {
      "cell_type": "code",
      "source": [
        "# plot trajectories\n",
        "from folium.plugins import HeatMap\n",
        "\n",
        "map = folium.Map(zoom_start=10, height=700, location=[33.5186, -86.8104])\n",
        "for d in matched_trajectories:\n",
        "  HeatMap(d, blur=5, radius=5).add_to(map)\n",
        "\n",
        "map"
      ],
      "metadata": {
        "colab": {
          "base_uri": "https://localhost:8080/",
          "height": 1000
        },
        "id": "WGlgB62F2N1Y",
        "outputId": "50895225-fe4a-4117-eb61-6415f924a32d"
      },
      "execution_count": 21,
      "outputs": [
        {
          "output_type": "execute_result",
          "data": {
            "text/plain": [
              "<folium.folium.Map at 0x7f018cd40c90>"
            ],
            "text/html": [
              "<div style=\"width:100%;\"><div style=\"position:relative;width:100%;height:0;padding-bottom:60%;\"><span style=\"color:#565656\">Make this Notebook Trusted to load map: File -> Trust Notebook</span><iframe srcdoc=\"&lt;!DOCTYPE html&gt;\n",
              "&lt;head&gt;    \n",
              "    &lt;meta http-equiv=&quot;content-type&quot; content=&quot;text/html; charset=UTF-8&quot; /&gt;\n",
              "    \n",
              "        &lt;script&gt;\n",
              "            L_NO_TOUCH = false;\n",
              "            L_DISABLE_3D = false;\n",
              "        &lt;/script&gt;\n",
              "    \n",
              "    &lt;style&gt;html, body {width: 100%;height: 100%;margin: 0;padding: 0;}&lt;/style&gt;\n",
              "    &lt;style&gt;#map {position:absolute;top:0;bottom:0;right:0;left:0;}&lt;/style&gt;\n",
              "    &lt;script src=&quot;https://cdn.jsdelivr.net/npm/leaflet@1.6.0/dist/leaflet.js&quot;&gt;&lt;/script&gt;\n",
              "    &lt;script src=&quot;https://code.jquery.com/jquery-1.12.4.min.js&quot;&gt;&lt;/script&gt;\n",
              "    &lt;script src=&quot;https://maxcdn.bootstrapcdn.com/bootstrap/3.2.0/js/bootstrap.min.js&quot;&gt;&lt;/script&gt;\n",
              "    &lt;script src=&quot;https://cdnjs.cloudflare.com/ajax/libs/Leaflet.awesome-markers/2.0.2/leaflet.awesome-markers.js&quot;&gt;&lt;/script&gt;\n",
              "    &lt;link rel=&quot;stylesheet&quot; href=&quot;https://cdn.jsdelivr.net/npm/leaflet@1.6.0/dist/leaflet.css&quot;/&gt;\n",
              "    &lt;link rel=&quot;stylesheet&quot; href=&quot;https://maxcdn.bootstrapcdn.com/bootstrap/3.2.0/css/bootstrap.min.css&quot;/&gt;\n",
              "    &lt;link rel=&quot;stylesheet&quot; href=&quot;https://maxcdn.bootstrapcdn.com/bootstrap/3.2.0/css/bootstrap-theme.min.css&quot;/&gt;\n",
              "    &lt;link rel=&quot;stylesheet&quot; href=&quot;https://maxcdn.bootstrapcdn.com/font-awesome/4.6.3/css/font-awesome.min.css&quot;/&gt;\n",
              "    &lt;link rel=&quot;stylesheet&quot; href=&quot;https://cdnjs.cloudflare.com/ajax/libs/Leaflet.awesome-markers/2.0.2/leaflet.awesome-markers.css&quot;/&gt;\n",
              "    &lt;link rel=&quot;stylesheet&quot; href=&quot;https://cdn.jsdelivr.net/gh/python-visualization/folium/folium/templates/leaflet.awesome.rotate.min.css&quot;/&gt;\n",
              "    \n",
              "            &lt;meta name=&quot;viewport&quot; content=&quot;width=device-width,\n",
              "                initial-scale=1.0, maximum-scale=1.0, user-scalable=no&quot; /&gt;\n",
              "            &lt;style&gt;\n",
              "                #map_8189746caedab69fac8cf927d08687bf {\n",
              "                    position: relative;\n",
              "                    width: 100.0%;\n",
              "                    height: 700.0px;\n",
              "                    left: 0.0%;\n",
              "                    top: 0.0%;\n",
              "                }\n",
              "            &lt;/style&gt;\n",
              "        \n",
              "    &lt;script src=&quot;https://cdn.jsdelivr.net/gh/python-visualization/folium@master/folium/templates/leaflet_heat.min.js&quot;&gt;&lt;/script&gt;\n",
              "&lt;/head&gt;\n",
              "&lt;body&gt;    \n",
              "    \n",
              "            &lt;div class=&quot;folium-map&quot; id=&quot;map_8189746caedab69fac8cf927d08687bf&quot; &gt;&lt;/div&gt;\n",
              "        \n",
              "&lt;/body&gt;\n",
              "&lt;script&gt;    \n",
              "    \n",
              "            var map_8189746caedab69fac8cf927d08687bf = L.map(\n",
              "                &quot;map_8189746caedab69fac8cf927d08687bf&quot;,\n",
              "                {\n",
              "                    center: [33.5186, -86.8104],\n",
              "                    crs: L.CRS.EPSG3857,\n",
              "                    zoom: 10,\n",
              "                    zoomControl: true,\n",
              "                    preferCanvas: false,\n",
              "                }\n",
              "            );\n",
              "\n",
              "            \n",
              "\n",
              "        \n",
              "    \n",
              "            var tile_layer_82461b9540f20f2bc30996288c106bf9 = L.tileLayer(\n",
              "                &quot;https://{s}.tile.openstreetmap.org/{z}/{x}/{y}.png&quot;,\n",
              "                {&quot;attribution&quot;: &quot;Data by \\u0026copy; \\u003ca href=\\&quot;http://openstreetmap.org\\&quot;\\u003eOpenStreetMap\\u003c/a\\u003e, under \\u003ca href=\\&quot;http://www.openstreetmap.org/copyright\\&quot;\\u003eODbL\\u003c/a\\u003e.&quot;, &quot;detectRetina&quot;: false, &quot;maxNativeZoom&quot;: 18, &quot;maxZoom&quot;: 18, &quot;minZoom&quot;: 0, &quot;noWrap&quot;: false, &quot;opacity&quot;: 1, &quot;subdomains&quot;: &quot;abc&quot;, &quot;tms&quot;: false}\n",
              "            ).addTo(map_8189746caedab69fac8cf927d08687bf);\n",
              "        \n",
              "    \n",
              "            var heat_map_0adf415b82d5e83628ef84d4b0b21dd4 = L.heatLayer(\n",
              "                [[33.50936, -86.789547], [33.509363, -86.789539], [33.509602, -86.789062], [33.509635, -86.788979], [33.509737, -86.788736], [33.509786, -86.788613], [33.509737, -86.788736], [33.509635, -86.788979], [33.509602, -86.789062], [33.509363, -86.789539], [33.509442, -86.789591], [33.509709, -86.789787], [33.50977, -86.789832], [33.509946, -86.789942], [33.510457, -86.790265], [33.511026, -86.790654], [33.511605, -86.79103], [33.512179, -86.791425], [33.512752, -86.791805], [33.513209, -86.792107], [33.513648, -86.792414]],\n",
              "                {&quot;blur&quot;: 5, &quot;maxZoom&quot;: 18, &quot;minOpacity&quot;: 0.5, &quot;radius&quot;: 5}\n",
              "            ).addTo(map_8189746caedab69fac8cf927d08687bf);\n",
              "        \n",
              "    \n",
              "            var heat_map_94ebdf2b4b92675bfed4cfdd05fe1d29 = L.heatLayer(\n",
              "                [[33.51094, -86.78923], [33.510777, -86.789574], [33.51066, -86.789819], [33.510457, -86.790265], [33.509946, -86.789942], [33.50977, -86.789832], [33.509659, -86.789802], [33.509626, -86.789812], [33.509597, -86.789838], [33.509577, -86.789869], [33.509568, -86.78991], [33.509574, -86.789983], [33.50959, -86.79005], [33.509639, -86.790086], [33.509684, -86.790137], [33.509719, -86.790184], [33.509747, -86.790237], [33.509775, -86.790299], [33.509799, -86.790364], [33.509852, -86.790528], [33.509906, -86.79069], [33.51011, -86.791289], [33.510195, -86.791469], [33.510235, -86.79154], [33.510283, -86.791609], [33.510425, -86.79178], [33.510764, -86.792081], [33.511069, -86.792382], [33.511234, -86.792493], [33.51191, -86.79295], [33.512354, -86.793252], [33.512522, -86.793365], [33.512796, -86.79355], [33.513281, -86.793879], [33.513704, -86.794165], [33.513896, -86.794295], [33.514188, -86.794492], [33.514611, -86.794781], [33.51614, -86.795906], [33.516548, -86.796246], [33.517688, -86.796943], [33.517732, -86.796972], [33.518389, -86.797409], [33.518859, -86.797751], [33.519322, -86.798063], [33.518648, -86.799428], [33.518047, -86.800697], [33.517998, -86.800799], [33.517951, -86.800899], [33.517837, -86.801137], [33.517505, -86.801837], [33.517429, -86.801998], [33.517349, -86.802162], [33.516987, -86.802925], [33.516746, -86.803431], [33.516697, -86.803535], [33.516647, -86.803639], [33.516607, -86.803723], [33.516538, -86.803869], [33.51648, -86.80399], [33.516355, -86.804259], [33.516297, -86.804375], [33.516046, -86.804901], [33.5154, -86.806257], [33.515359, -86.806344], [33.514733, -86.807704], [33.51402, -86.809155], [33.513933, -86.809338], [33.513859, -86.809494], [33.513354, -86.810556], [33.512906, -86.811498], [33.51281, -86.8117], [33.512707, -86.811916], [33.512052, -86.813294], [33.511943, -86.813526], [33.5114, -86.814667], [33.511296, -86.814885], [33.510801, -86.815927], [33.510752, -86.816031], [33.510704, -86.816134], [33.510389, -86.816794], [33.510378, -86.816817], [33.510151, -86.817294], [33.510104, -86.817393], [33.51005, -86.817508], [33.510013, -86.817585], [33.509943, -86.817732], [33.509455, -86.81876], [33.508855, -86.820022], [33.508204, -86.821391], [33.509112, -86.822006], [33.509469, -86.822257], [33.509574, -86.822319], [33.509715, -86.822425], [33.510024, -86.822632], [33.5102, -86.822756], [33.510244, -86.822788], [33.510899, -86.82326], [33.511147, -86.82344], [33.511157, -86.824194], [33.511175, -86.825527], [33.511186, -86.826374], [33.51119, -86.826716], [33.511199, -86.827393], [33.511201, -86.827521], [33.511212, -86.828345], [33.511233, -86.829922], [33.511254, -86.831506], [33.511275, -86.833081], [33.511318, -86.833081]],\n",
              "                {&quot;blur&quot;: 5, &quot;maxZoom&quot;: 18, &quot;minOpacity&quot;: 0.5, &quot;radius&quot;: 5}\n",
              "            ).addTo(map_8189746caedab69fac8cf927d08687bf);\n",
              "        \n",
              "    \n",
              "            var heat_map_d678938c0388ec2ed7f6f0718505cef3 = L.heatLayer(\n",
              "                [[33.506819, -86.804256], [33.506815, -86.804264], [33.506901, -86.804321], [33.507625, -86.804814], [33.50772, -86.804878], [33.507801, -86.804933], [33.507989, -86.80506], [33.508078, -86.805121], [33.50817, -86.805184], [33.508263, -86.805247], [33.508628, -86.805494], [33.509085, -86.805805], [33.509138, -86.805841], [33.509459, -86.806059], [33.50953, -86.806107], [33.509619, -86.806167], [33.509982, -86.806414], [33.510376, -86.806681], [33.510463, -86.806741], [33.510581, -86.806821], [33.511121, -86.807187], [33.511642, -86.807541], [33.512147, -86.807883], [33.512404, -86.808057], [33.512477, -86.808106], [33.512536, -86.808146], [33.513087, -86.808519], [33.513567, -86.808847], [33.51402, -86.809155], [33.513933, -86.809338], [33.513859, -86.809494], [33.513354, -86.810556], [33.512898, -86.810248], [33.512889, -86.810241]],\n",
              "                {&quot;blur&quot;: 5, &quot;maxZoom&quot;: 18, &quot;minOpacity&quot;: 0.5, &quot;radius&quot;: 5}\n",
              "            ).addTo(map_8189746caedab69fac8cf927d08687bf);\n",
              "        \n",
              "    \n",
              "            var heat_map_151bba99606025d1e781269ab05dd078 = L.heatLayer(\n",
              "                [[33.51189, -86.787234], [33.511848, -86.787321], [33.51175, -86.787505], [33.511408, -86.788245], [33.511287, -86.788504], [33.511225, -86.788637], [33.511197, -86.788692], [33.511101, -86.788889], [33.510777, -86.789574], [33.51066, -86.789819], [33.510457, -86.790265], [33.510244, -86.790676], [33.509749, -86.791707], [33.509452, -86.792327], [33.509438, -86.79236], [33.509408, -86.792427], [33.509132, -86.792999], [33.508878, -86.792823], [33.508771, -86.792756], [33.508592, -86.792619], [33.507997, -86.792221], [33.508076, -86.792074], [33.508198, -86.791847], [33.508253, -86.791745], [33.508476, -86.791909], [33.508664, -86.792047], [33.508817, -86.792072], [33.508891, -86.792076], [33.508967, -86.792038], [33.509033, -86.791984], [33.509088, -86.791901], [33.509126, -86.791824], [33.509141, -86.791752], [33.509147, -86.791658], [33.509138, -86.791569], [33.509115, -86.791492], [33.509081, -86.791427], [33.509007, -86.791333], [33.50889, -86.791244], [33.508722, -86.791084], [33.508337, -86.790884], [33.507793, -86.7906], [33.507508, -86.79047], [33.506877, -86.790246], [33.505673, -86.789939], [33.505411, -86.789879], [33.505117, -86.789825], [33.504763, -86.789779], [33.5039, -86.789716], [33.503025, -86.789647], [33.50277, -86.789627], [33.502252, -86.789592], [33.501626, -86.78955], [33.500605, -86.789468], [33.500403, -86.789486], [33.499893, -86.789431], [33.497546, -86.789201], [33.497027, -86.789124], [33.49662, -86.789003], [33.496145, -86.788771], [33.495843, -86.788573], [33.495672, -86.78846], [33.495356, -86.788227], [33.495097, -86.788031], [33.49477, -86.787783], [33.494323, -86.78746], [33.494072, -86.787341], [33.493854, -86.78725], [33.493523, -86.787129], [33.493293, -86.787097], [33.493147, -86.787077], [33.492842, -86.787029], [33.491883, -86.786962], [33.491318, -86.786925], [33.490951, -86.786899], [33.490716, -86.786902], [33.490524, -86.786902], [33.488306, -86.786895], [33.488094, -86.786881], [33.48763, -86.786905], [33.485518, -86.787002], [33.484548, -86.787013], [33.483854, -86.787057], [33.482892, -86.787137], [33.482307, -86.787169], [33.481988, -86.787193], [33.481429, -86.787234], [33.481248, -86.787251], [33.481263, -86.787078], [33.481284, -86.787001], [33.481296, -86.786892], [33.481327, -86.786711], [33.481558, -86.786082], [33.481098, -86.785801], [33.480818, -86.78567], [33.480744, -86.785643], [33.480589, -86.785587], [33.479709, -86.785036], [33.480271, -86.783715], [33.480641, -86.782886], [33.480731, -86.782656], [33.480859, -86.782328], [33.480942, -86.781904], [33.481017, -86.781142], [33.481057, -86.780857], [33.481226, -86.780365], [33.481263, -86.780296], [33.481684, -86.779505], [33.481772, -86.779338], [33.481915, -86.778988], [33.481893, -86.778543], [33.481699, -86.777819], [33.481643, -86.777629], [33.481543, -86.777355], [33.481465, -86.777165], [33.481375, -86.77697], [33.481315, -86.776853], [33.481278, -86.776788], [33.480932, -86.776126], [33.480475, -86.77547], [33.48032, -86.775276], [33.480098, -86.775043], [33.480021, -86.774952], [33.47934, -86.774236], [33.47909, -86.774011], [33.478896, -86.773848], [33.47836, -86.773438], [33.47827, -86.773371], [33.478161, -86.773302], [33.477597, -86.77287], [33.477321, -86.772647], [33.477148, -86.772497], [33.477117, -86.772465], [33.476709, -86.772062], [33.476219, -86.771503], [33.475957, -86.771154], [33.475817, -86.770952], [33.475687, -86.770744], [33.475513, -86.77045], [33.475326, -86.7701], [33.47522, -86.769896], [33.475164, -86.769788], [33.475034, -86.769535], [33.474626, -86.768736], [33.47451, -86.768507], [33.474057, -86.767608], [33.473692, -86.766888], [33.473058, -86.765616], [33.472147, -86.763864], [33.471882, -86.763354], [33.47144, -86.762629], [33.471138, -86.76204], [33.471044, -86.761874], [33.470995, -86.761832], [33.470931, -86.761811], [33.470883, -86.761803], [33.470851, -86.761815], [33.470782, -86.761841], [33.470367, -86.762369], [33.46978, -86.763206], [33.469258, -86.764087], [33.468943, -86.764758], [33.468797, -86.765166], [33.468494, -86.76619], [33.468375, -86.766669], [33.468276, -86.767211], [33.468131, -86.768242], [33.467913, -86.768181], [33.46775, -86.76806], [33.467692, -86.76792], [33.467681, -86.767749], [33.467771, -86.767209], [33.467895, -86.766587], [33.467951, -86.766305], [33.467895, -86.765899], [33.467865, -86.765736], [33.467933, -86.765526], [33.467988, -86.765356], [33.468003, -86.765113], [33.467965, -86.764863], [33.467837, -86.76472], [33.467739, -86.764566], [33.467706, -86.764514], [33.467691, -86.764349], [33.467863, -86.763995], [33.467933, -86.76385], [33.46797, -86.7636], [33.467951, -86.763351], [33.467855, -86.76311], [33.467678, -86.762672], [33.467618, -86.762587], [33.467557, -86.762544], [33.467517, -86.762514], [33.467396, -86.762484], [33.467176, -86.762501], [33.467011, -86.762609], [33.466957, -86.762696]],\n",
              "                {&quot;blur&quot;: 5, &quot;maxZoom&quot;: 18, &quot;minOpacity&quot;: 0.5, &quot;radius&quot;: 5}\n",
              "            ).addTo(map_8189746caedab69fac8cf927d08687bf);\n",
              "        \n",
              "    \n",
              "            var heat_map_26b10f4389fc3298e59caa1593ea86fc = L.heatLayer(\n",
              "                [[33.499952, -86.797725], [33.500213, -86.797902], [33.500386, -86.798019], [33.50061, -86.798171], [33.50129, -86.798632], [33.501351, -86.798673], [33.501817, -86.798988], [33.501906, -86.799049], [33.501974, -86.799095], [33.502275, -86.799299], [33.502418, -86.799396], [33.502488, -86.799443], [33.502838, -86.799681], [33.502895, -86.799719], [33.502951, -86.799757], [33.50336, -86.800034], [33.503404, -86.800063], [33.503936, -86.800424], [33.504041, -86.800495], [33.50414, -86.800562], [33.505117, -86.801224], [33.505197, -86.801278], [33.505252, -86.801161], [33.505397, -86.800852], [33.505554, -86.800516], [33.505805, -86.799979], [33.505865, -86.799851], [33.506099, -86.799359], [33.506109, -86.799336], [33.506171, -86.799205], [33.506202, -86.799141], [33.506265, -86.799008], [33.506523, -86.798464], [33.506596, -86.798311], [33.506672, -86.798153], [33.506757, -86.797976], [33.506794, -86.797898], [33.506962, -86.797547], [33.507181, -86.797088], [33.507375, -86.796687], [33.507579, -86.796265], [33.507624, -86.79617], [33.507703, -86.796003], [33.507834, -86.795725], [33.50805, -86.795278], [33.508191, -86.794984], [33.50849, -86.794364], [33.509132, -86.792999], [33.509408, -86.792427], [33.509438, -86.79236], [33.509452, -86.792327], [33.509749, -86.791707], [33.510244, -86.790676], [33.510457, -86.790265], [33.51066, -86.789819], [33.510777, -86.789574], [33.511101, -86.788889], [33.511682, -86.789271], [33.512257, -86.789673], [33.512538, -86.789854], [33.512754, -86.789984], [33.512828, -86.79004], [33.512846, -86.790053]],\n",
              "                {&quot;blur&quot;: 5, &quot;maxZoom&quot;: 18, &quot;minOpacity&quot;: 0.5, &quot;radius&quot;: 5}\n",
              "            ).addTo(map_8189746caedab69fac8cf927d08687bf);\n",
              "        \n",
              "    \n",
              "            var heat_map_c91415af34da8d66496e51fe1d0fb2c2 = L.heatLayer(\n",
              "                [[33.431734, -86.788626], [33.431143, -86.788822], [33.43109, -86.78884], [33.430538, -86.78908], [33.429972, -86.789372], [33.429542, -86.789621], [33.42946, -86.789684], [33.428941, -86.790076], [33.428277, -86.790667], [33.428246, -86.790694], [33.427687, -86.791381], [33.427537, -86.791583], [33.42708, -86.792195], [33.42614, -86.79338], [33.426093, -86.793442], [33.425717, -86.793938], [33.42551, -86.79417], [33.425279, -86.794462], [33.425252, -86.794496], [33.4249, -86.794901], [33.42417, -86.795741], [33.423862, -86.796076], [33.42354, -86.79647], [33.423174, -86.79684], [33.42255, -86.797516], [33.421892, -86.798238], [33.421509, -86.798657], [33.420848, -86.799382], [33.420605, -86.799651], [33.420323, -86.799959], [33.419873, -86.800454], [33.419802, -86.800531], [33.419712, -86.800628], [33.419667, -86.800677], [33.419541, -86.800814], [33.419257, -86.801105], [33.419176, -86.801185], [33.41885, -86.801496], [33.41877, -86.801569], [33.418717, -86.801617], [33.418374, -86.801913], [33.418265, -86.802001], [33.418199, -86.802055], [33.417964, -86.802238], [33.417626, -86.802489], [33.417502, -86.802575], [33.417317, -86.802707], [33.417266, -86.802741], [33.417085, -86.802865], [33.416843, -86.803035], [33.416567, -86.803228], [33.416356, -86.803375], [33.4161, -86.803553], [33.41585, -86.803727], [33.415686, -86.803841], [33.415542, -86.803941], [33.415292, -86.804115], [33.41516, -86.804207], [33.415108, -86.804243], [33.414881, -86.804401], [33.414779, -86.804473], [33.41462, -86.804585], [33.414411, -86.804732], [33.414279, -86.804823], [33.413951, -86.805055], [33.413401, -86.805431], [33.4129, -86.805784], [33.412607, -86.805985], [33.412418, -86.806108], [33.412209, -86.806229], [33.411891, -86.806388], [33.411833, -86.806439], [33.411425, -86.806684], [33.41131, -86.806828], [33.411243, -86.80695], [33.411186, -86.807095], [33.411147, -86.807297], [33.411217, -86.807637], [33.411332, -86.807826], [33.411461, -86.807972], [33.411697, -86.808075], [33.411884, -86.808075], [33.412098, -86.808006], [33.412263, -86.807869], [33.412364, -86.807714], [33.412419, -86.807536], [33.412435, -86.807483], [33.412457, -86.807285], [33.412449, -86.806912], [33.412328, -86.806638], [33.41193, -86.80572], [33.411116, -86.803732], [33.411035, -86.803537], [33.410729, -86.802799], [33.40956, -86.79998], [33.40869, -86.797903], [33.408354, -86.79725], [33.407907, -86.796442], [33.40754, -86.795859], [33.407037, -86.795145], [33.405786, -86.793501], [33.40457, -86.791884], [33.403674, -86.790658], [33.40233, -86.788989], [33.401866, -86.788535], [33.40126, -86.787969], [33.400737, -86.787558], [33.399788, -86.787039], [33.399401, -86.786842], [33.399148, -86.78673], [33.398889, -86.786629], [33.398716, -86.786565], [33.398536, -86.786515], [33.398274, -86.786453], [33.398004, -86.786417], [33.39775, -86.786397], [33.397478, -86.786388], [33.396993, -86.786376], [33.39567, -86.78635], [33.395445, -86.786339], [33.395176, -86.786293], [33.395022, -86.786242], [33.394841, -86.786165], [33.394676, -86.786076], [33.394525, -86.785975], [33.394389, -86.785866], [33.394272, -86.785758], [33.394155, -86.785635], [33.394053, -86.785508], [33.393965, -86.785381], [33.393887, -86.785251], [33.393789, -86.785064], [33.393701, -86.784863], [33.393629, -86.784656], [33.393571, -86.784408], [33.393537, -86.784212], [33.393516, -86.784015], [33.393508, -86.783824], [33.393511, -86.783656], [33.393534, -86.78344], [33.393561, -86.783271], [33.393627, -86.782988], [33.393724, -86.782705], [33.393851, -86.782432], [33.394062, -86.782103], [33.394952, -86.781104], [33.396478, -86.779469], [33.39713, -86.778679], [33.398091, -86.77744], [33.398164, -86.777333], [33.398741, -86.77644], [33.39957, -86.775152], [33.400385, -86.77389], [33.400789, -86.773262], [33.401104, -86.772775], [33.401781, -86.771727], [33.402763, -86.770208], [33.403376, -86.769257], [33.404568, -86.767406], [33.406271, -86.76477], [33.406806, -86.764003], [33.407369, -86.76326], [33.408088, -86.762428], [33.409307, -86.761211], [33.409886, -86.760645], [33.410583, -86.75996], [33.411891, -86.75867], [33.412418, -86.758154], [33.414046, -86.756542], [33.414776, -86.755849], [33.415678, -86.755034], [33.417257, -86.753646], [33.418658, -86.752424], [33.424242, -86.747598], [33.424723, -86.747167], [33.427653, -86.744647], [33.428536, -86.743879], [33.429989, -86.742623], [33.430528, -86.742158], [33.430957, -86.741786], [33.431811, -86.741049], [33.433255, -86.739786], [33.433531, -86.73954], [33.433679, -86.739405], [33.43434, -86.738802], [33.434966, -86.738181], [33.435992, -86.737206], [33.436601, -86.736412], [33.437138, -86.73575], [33.437444, -86.735376], [33.43825, -86.734384], [33.438651, -86.733827], [33.438984, -86.733318], [33.43917, -86.732996], [33.439322, -86.732696], [33.439464, -86.732395], [33.439669, -86.731893], [33.439853, -86.731354], [33.440128, -86.730237], [33.440234, -86.729785], [33.440428, -86.72898], [33.440509, -86.728616], [33.440532, -86.728362], [33.440538, -86.728178], [33.440518, -86.727994], [33.440495, -86.727853], [33.440411, -86.72762], [33.440309, -86.727419], [33.440071, -86.72687], [33.43983, -86.726445], [33.439747, -86.726307], [33.439551, -86.725979], [33.43917, -86.725341], [33.439009, -86.725073], [33.438614, -86.724405], [33.438359, -86.723996], [33.438302, -86.723903], [33.438235, -86.723789], [33.437486, -86.722525], [33.43726, -86.722141], [33.436629, -86.721087], [33.436428, -86.720751], [33.43589, -86.719851], [33.435764, -86.719642], [33.435667, -86.719478], [33.435597, -86.719375], [33.435434, -86.719103], [33.434994, -86.718368], [33.434658, -86.717807], [33.433158, -86.715302], [33.433047, -86.715115], [33.432979, -86.715002], [33.43285, -86.714785], [33.432721, -86.714569], [33.432287, -86.713836], [33.431641, -86.712752], [33.430959, -86.711619], [33.430915, -86.711546], [33.430641, -86.711775], [33.430602, -86.711806], [33.430551, -86.711859], [33.430357, -86.712082], [33.430196, -86.712331], [33.430076, -86.712489], [33.429595, -86.713003], [33.429394, -86.713153], [33.429327, -86.713197], [33.429105, -86.713323], [33.428953, -86.713399], [33.428673, -86.713545], [33.428373, -86.713721], [33.4283, -86.713787], [33.428016, -86.714014], [33.427954, -86.714085], [33.427905, -86.714171], [33.427875, -86.714221], [33.42785, -86.714274], [33.427824, -86.714347], [33.42779, -86.71449], [33.427767, -86.714625], [33.427728, -86.715044], [33.427715, -86.715118], [33.427693, -86.715225], [33.427675, -86.715267], [33.427665, -86.715293], [33.427636, -86.715342], [33.427523, -86.71558], [33.427433, -86.715748], [33.427368, -86.715884], [33.427056, -86.716462], [33.426724, -86.717033], [33.426657, -86.717172], [33.426603, -86.717315], [33.426566, -86.71745], [33.42655, -86.717544], [33.426549, -86.717629], [33.426554, -86.717691], [33.426583, -86.717804], [33.426623, -86.717942], [33.426763, -86.718133], [33.427231, -86.718428], [33.427276, -86.718456], [33.427533, -86.718585], [33.427624, -86.71859]],\n",
              "                {&quot;blur&quot;: 5, &quot;maxZoom&quot;: 18, &quot;minOpacity&quot;: 0.5, &quot;radius&quot;: 5}\n",
              "            ).addTo(map_8189746caedab69fac8cf927d08687bf);\n",
              "        \n",
              "    \n",
              "            var heat_map_d093901ab7b83c0c20a0c778104ad65e = L.heatLayer(\n",
              "                [[33.512839, -86.799156], [33.512467, -86.799933], [33.512382, -86.800112], [33.512252, -86.800384], [33.512199, -86.800494], [33.512149, -86.800596], [33.512101, -86.800694], [33.511949, -86.801025], [33.511544, -86.801867], [33.510883, -86.803264], [33.510733, -86.803572], [33.510722, -86.803595], [33.510578, -86.803891], [33.510548, -86.803953], [33.510208, -86.804672], [33.509837, -86.804421], [33.509761, -86.80437], [33.509309, -86.804063], [33.509014, -86.804682], [33.508628, -86.805494], [33.508174, -86.806447], [33.508128, -86.806545], [33.50796, -86.806897], [33.507311, -86.80826], [33.506655, -86.809638], [33.506575, -86.809807], [33.506371, -86.810235], [33.506007, -86.811], [33.505355, -86.812368], [33.504804, -86.813544], [33.504692, -86.813726], [33.50426, -86.81344], [33.503799, -86.813132], [33.50335, -86.812819], [33.502892, -86.812511], [33.502244, -86.813882], [33.502694, -86.814191], [33.503125, -86.814486], [33.503189, -86.814391], [33.503799, -86.813132], [33.50426, -86.81344], [33.504692, -86.813726], [33.504654, -86.813788], [33.504601, -86.813845], [33.504299, -86.814094], [33.503987, -86.814351], [33.503869, -86.814464], [33.503771, -86.814595], [33.503742, -86.814648], [33.503711, -86.814734], [33.503683, -86.814832], [33.503673, -86.814932], [33.503678, -86.815045], [33.503694, -86.81516], [33.50372, -86.815258], [33.503745, -86.815332], [33.503785, -86.81541], [33.503824, -86.81547], [33.50394, -86.815607], [33.50401, -86.815678], [33.504133, -86.815792], [33.5043, -86.81597], [33.504449, -86.816135], [33.508211, -86.818687], [33.508426, -86.81884], [33.508932, -86.819211], [33.509354, -86.819513], [33.50986, -86.819854], [33.510286, -86.820121], [33.51077, -86.820454], [33.51121, -86.820741], [33.511687, -86.821066], [33.512107, -86.821351], [33.512837, -86.821832], [33.513283, -86.822133], [33.513989, -86.822585], [33.515173, -86.823271], [33.515637, -86.823529], [33.515856, -86.823664], [33.517165, -86.824377], [33.517453, -86.824565], [33.51754, -86.824618], [33.518023, -86.824916], [33.518389, -86.825138], [33.518805, -86.82542], [33.519006, -86.825562], [33.519286, -86.825738], [33.519521, -86.825913], [33.520039, -86.826364], [33.520156, -86.826476], [33.520253, -86.826582], [33.52039, -86.826767], [33.520492, -86.826932], [33.520587, -86.827118], [33.520691, -86.827374], [33.520764, -86.827619], [33.520807, -86.827864], [33.520831, -86.828121], [33.520833, -86.82835], [33.520776, -86.829303], [33.520558, -86.830983], [33.520454, -86.831924], [33.520397, -86.832622], [33.52037, -86.833234], [33.520381, -86.833756], [33.520474, -86.834672], [33.520712, -86.83595], [33.520933, -86.837254], [33.520981, -86.837716], [33.520995, -86.837858], [33.521028, -86.83843], [33.521037, -86.839301], [33.52107, -86.842441], [33.521085, -86.843989], [33.521096, -86.845064], [33.521099, -86.845346], [33.521102, -86.845627], [33.521123, -86.848235], [33.521113, -86.850452], [33.521068, -86.85123], [33.520907, -86.85284], [33.520817, -86.853356], [33.520527, -86.854722], [33.519838, -86.857176], [33.517432, -86.86586], [33.517133, -86.866754], [33.516759, -86.86762], [33.516474, -86.86817], [33.515563, -86.869682], [33.514758, -86.871034], [33.514291, -86.871788], [33.513759, -86.872648], [33.513451, -86.873166], [33.512678, -86.874465], [33.512497, -86.874757], [33.512341, -86.875086], [33.512151, -86.875491], [33.511665, -86.876495], [33.511457, -86.876913], [33.511301, -86.877246], [33.511254, -86.877342], [33.510777, -86.878313], [33.510618, -86.878307], [33.510582, -86.878311], [33.510527, -86.878273], [33.510483, -86.87823], [33.510454, -86.877196], [33.510503, -86.876832], [33.510492, -86.876519], [33.510489, -86.876367], [33.510481, -86.876178], [33.510465, -86.875786], [33.510413, -86.874492], [33.510135, -86.873916], [33.51003, -86.873567], [33.509974, -86.873054], [33.510001, -86.872801], [33.510058, -86.872581], [33.510139, -86.872316], [33.51023, -86.872117], [33.51036, -86.871907], [33.510461, -86.871613], [33.510514, -86.871357], [33.510519, -86.870981], [33.510485, -86.870385], [33.51048, -86.870304], [33.510426, -86.870083], [33.510303, -86.869775], [33.510137, -86.869536], [33.510015, -86.869357], [33.509861, -86.86904], [33.509794, -86.868784], [33.509777, -86.868395], [33.509774, -86.865745], [33.509776, -86.864793], [33.50978, -86.862982], [33.509788, -86.861407], [33.509855, -86.861062], [33.509962, -86.860725], [33.510106, -86.860408], [33.510138, -86.860357]],\n",
              "                {&quot;blur&quot;: 5, &quot;maxZoom&quot;: 18, &quot;minOpacity&quot;: 0.5, &quot;radius&quot;: 5}\n",
              "            ).addTo(map_8189746caedab69fac8cf927d08687bf);\n",
              "        \n",
              "    \n",
              "            var heat_map_c0f309e213dc86eab7c226ce25233251 = L.heatLayer(\n",
              "                [[33.511221, -86.788634], [33.511225, -86.788637], [33.511197, -86.788692], [33.511101, -86.788889], [33.510777, -86.789574], [33.51066, -86.789819], [33.510457, -86.790265], [33.510244, -86.790676], [33.509749, -86.791707], [33.509452, -86.792327], [33.509438, -86.79236], [33.509408, -86.792427], [33.509132, -86.792999], [33.50849, -86.794364], [33.508191, -86.794984], [33.50805, -86.795278], [33.507834, -86.795725], [33.507703, -86.796003], [33.507624, -86.79617], [33.507579, -86.796265], [33.507375, -86.796687], [33.507181, -86.797088], [33.506962, -86.797547], [33.506794, -86.797898], [33.506757, -86.797976], [33.506672, -86.798153], [33.506596, -86.798311], [33.506523, -86.798464], [33.506265, -86.799008], [33.506202, -86.799141], [33.506171, -86.799205], [33.506109, -86.799336], [33.506099, -86.799359], [33.505865, -86.799851], [33.505805, -86.799979], [33.505554, -86.800516], [33.505397, -86.800852], [33.505252, -86.801161], [33.505197, -86.801278], [33.504907, -86.80189], [33.504579, -86.802582], [33.504521, -86.802705], [33.504616, -86.80277]],\n",
              "                {&quot;blur&quot;: 5, &quot;maxZoom&quot;: 18, &quot;minOpacity&quot;: 0.5, &quot;radius&quot;: 5}\n",
              "            ).addTo(map_8189746caedab69fac8cf927d08687bf);\n",
              "        \n",
              "    \n",
              "            var heat_map_0b357f3d6c7b313786f15a09d8a95370 = L.heatLayer(\n",
              "                [[33.511574, -86.787323], [33.511618, -86.787369], [33.51175, -86.787505], [33.511408, -86.788245], [33.511287, -86.788504], [33.511225, -86.788637], [33.511197, -86.788692], [33.511101, -86.788889], [33.510777, -86.789574], [33.51066, -86.789819], [33.510457, -86.790265], [33.509946, -86.789942], [33.50977, -86.789832], [33.509709, -86.789787], [33.509442, -86.789591], [33.509363, -86.789539], [33.509317, -86.789641], [33.509243, -86.789806], [33.509206, -86.789888], [33.50914, -86.790032], [33.50889, -86.790533], [33.508817, -86.790667], [33.508548, -86.791201], [33.50844, -86.791594], [33.508476, -86.791909], [33.508664, -86.792047], [33.508817, -86.792072], [33.508891, -86.792076], [33.508967, -86.792038], [33.509033, -86.791984], [33.509088, -86.791901], [33.509126, -86.791824], [33.509141, -86.791752], [33.509147, -86.791658], [33.509138, -86.791569], [33.509115, -86.791492], [33.509081, -86.791427], [33.509007, -86.791333], [33.50889, -86.791244], [33.508722, -86.791084], [33.508337, -86.790884], [33.507793, -86.7906], [33.507508, -86.79047], [33.506877, -86.790246], [33.505673, -86.789939], [33.505411, -86.789879], [33.505117, -86.789825], [33.504763, -86.789779], [33.5039, -86.789716], [33.503025, -86.789647], [33.50277, -86.789627], [33.502252, -86.789592], [33.501626, -86.78955], [33.500605, -86.789468], [33.500403, -86.789486], [33.499893, -86.789431], [33.497546, -86.789201], [33.497027, -86.789124], [33.49662, -86.789003], [33.496145, -86.788771], [33.495843, -86.788573], [33.495672, -86.78846], [33.495356, -86.788227], [33.495097, -86.788031], [33.49477, -86.787783], [33.494323, -86.78746], [33.493901, -86.787358], [33.493404, -86.787292], [33.491459, -86.78725], [33.491383, -86.787405], [33.491234, -86.787718], [33.489921, -86.790478], [33.48906, -86.792413], [33.488808, -86.792984], [33.488753, -86.793157], [33.488655, -86.793364], [33.488623, -86.793431], [33.488606, -86.793468], [33.488586, -86.793509], [33.488342, -86.794021], [33.48823, -86.794326], [33.488132, -86.794765], [33.488115, -86.794872], [33.488044, -86.795306], [33.488013, -86.795493], [33.487955, -86.795662], [33.487808, -86.795973], [33.487589, -86.796274], [33.485999, -86.798246], [33.485759, -86.798549], [33.485458, -86.798847], [33.48424, -86.799704], [33.483598, -86.80025], [33.48335, -86.800518], [33.483139, -86.800819], [33.482981, -86.801111], [33.482875, -86.801393], [33.482762, -86.80174], [33.482692, -86.802089], [33.482477, -86.804402], [33.48243, -86.804835], [33.48238, -86.805054], [33.482256, -86.805349], [33.482312, -86.805474], [33.482379, -86.805559], [33.482449, -86.805737], [33.482514, -86.805894], [33.482554, -86.805994], [33.482526, -86.806404], [33.482511, -86.806613], [33.482703, -86.806838], [33.482843, -86.807051], [33.482956, -86.807222], [33.483105, -86.807541], [33.482472, -86.808676], [33.482632, -86.808856], [33.482377, -86.809334], [33.482083, -86.809951], [33.482298, -86.810108], [33.482034, -86.810751], [33.482298, -86.810108], [33.482083, -86.809951], [33.482377, -86.809334], [33.482632, -86.808856], [33.482472, -86.808676], [33.483105, -86.807541], [33.482956, -86.807222], [33.482843, -86.807051], [33.482703, -86.806838], [33.482511, -86.806613], [33.482526, -86.806404], [33.482554, -86.805994], [33.482514, -86.805894], [33.482449, -86.805737], [33.482379, -86.805559], [33.482312, -86.805474], [33.482256, -86.805349], [33.48238, -86.805054], [33.48243, -86.804835], [33.482477, -86.804402], [33.482227, -86.80431], [33.482033, -86.804193], [33.481955, -86.804115], [33.481824, -86.804005], [33.481662, -86.803803], [33.481586, -86.803764]],\n",
              "                {&quot;blur&quot;: 5, &quot;maxZoom&quot;: 18, &quot;minOpacity&quot;: 0.5, &quot;radius&quot;: 5}\n",
              "            ).addTo(map_8189746caedab69fac8cf927d08687bf);\n",
              "        \n",
              "    \n",
              "            var heat_map_820985374d1cdaa1ec5958356460126c = L.heatLayer(\n",
              "                [[33.488166, -86.808008], [33.488166, -86.808002], [33.488165, -86.807541], [33.488153, -86.807204], [33.488141, -86.807012], [33.48813, -86.806892], [33.488129, -86.806298], [33.488211, -86.805927], [33.488537, -86.805052], [33.488835, -86.804107], [33.489035, -86.803671], [33.489309, -86.803167], [33.48977, -86.802492], [33.489979, -86.802281], [33.490028, -86.80226], [33.490136, -86.802148], [33.490519, -86.801751], [33.490688, -86.801608], [33.491016, -86.801156], [33.49111, -86.801151], [33.491664, -86.801368], [33.492029, -86.801519], [33.492821, -86.801846], [33.492923, -86.801885], [33.493116, -86.801959], [33.493593, -86.802158], [33.493848, -86.802264], [33.494112, -86.802366], [33.494576, -86.802556], [33.495033, -86.802735], [33.495413, -86.802889], [33.495572, -86.802954], [33.495788, -86.803038], [33.495833, -86.803055], [33.496105, -86.80316], [33.496368, -86.803264], [33.49651, -86.80332], [33.496623, -86.803364], [33.497156, -86.803568], [33.497483, -86.802871], [33.497749, -86.802305], [33.497796, -86.802205], [33.497819, -86.802156], [33.497889, -86.802007], [33.498153, -86.801447], [33.498289, -86.801155], [33.498313, -86.801105], [33.498382, -86.800959], [33.498534, -86.80062], [33.498568, -86.800545], [33.498647, -86.800382], [33.49878, -86.800105], [33.498794, -86.800076], [33.49891, -86.799834], [33.498943, -86.799764], [33.499244, -86.799123], [33.499576, -86.798417], [33.4996, -86.798366]],\n",
              "                {&quot;blur&quot;: 5, &quot;maxZoom&quot;: 18, &quot;minOpacity&quot;: 0.5, &quot;radius&quot;: 5}\n",
              "            ).addTo(map_8189746caedab69fac8cf927d08687bf);\n",
              "        \n",
              "&lt;/script&gt;\" style=\"position:absolute;width:100%;height:100%;left:0;top:0;border:none !important;\" allowfullscreen webkitallowfullscreen mozallowfullscreen></iframe></div></div>"
            ]
          },
          "metadata": {},
          "execution_count": 21
        }
      ]
    },
    {
      "cell_type": "code",
      "source": [
        "# decompose trajectories into points and plot\n",
        "trajs_as_points = []\n",
        "for r in matched_trajectories:\n",
        "  for rr in r:\n",
        "    trajs_as_points.append(rr)\n",
        "\n",
        "map = folium.Map(zoom_start=10, height=700, location=[33.5186, -86.8104])\n",
        "HeatMap(trajs_as_points, blur=5, radius=5).add_to(map)\n",
        "map"
      ],
      "metadata": {
        "colab": {
          "base_uri": "https://localhost:8080/",
          "height": 1000
        },
        "id": "zv-UReQE2f7p",
        "outputId": "3d3124bb-70d9-4948-b02f-702027106d21"
      },
      "execution_count": 22,
      "outputs": [
        {
          "output_type": "execute_result",
          "data": {
            "text/plain": [
              "<folium.folium.Map at 0x7f0152647990>"
            ],
            "text/html": [
              "<div style=\"width:100%;\"><div style=\"position:relative;width:100%;height:0;padding-bottom:60%;\"><span style=\"color:#565656\">Make this Notebook Trusted to load map: File -> Trust Notebook</span><iframe srcdoc=\"&lt;!DOCTYPE html&gt;\n",
              "&lt;head&gt;    \n",
              "    &lt;meta http-equiv=&quot;content-type&quot; content=&quot;text/html; charset=UTF-8&quot; /&gt;\n",
              "    \n",
              "        &lt;script&gt;\n",
              "            L_NO_TOUCH = false;\n",
              "            L_DISABLE_3D = false;\n",
              "        &lt;/script&gt;\n",
              "    \n",
              "    &lt;style&gt;html, body {width: 100%;height: 100%;margin: 0;padding: 0;}&lt;/style&gt;\n",
              "    &lt;style&gt;#map {position:absolute;top:0;bottom:0;right:0;left:0;}&lt;/style&gt;\n",
              "    &lt;script src=&quot;https://cdn.jsdelivr.net/npm/leaflet@1.6.0/dist/leaflet.js&quot;&gt;&lt;/script&gt;\n",
              "    &lt;script src=&quot;https://code.jquery.com/jquery-1.12.4.min.js&quot;&gt;&lt;/script&gt;\n",
              "    &lt;script src=&quot;https://maxcdn.bootstrapcdn.com/bootstrap/3.2.0/js/bootstrap.min.js&quot;&gt;&lt;/script&gt;\n",
              "    &lt;script src=&quot;https://cdnjs.cloudflare.com/ajax/libs/Leaflet.awesome-markers/2.0.2/leaflet.awesome-markers.js&quot;&gt;&lt;/script&gt;\n",
              "    &lt;link rel=&quot;stylesheet&quot; href=&quot;https://cdn.jsdelivr.net/npm/leaflet@1.6.0/dist/leaflet.css&quot;/&gt;\n",
              "    &lt;link rel=&quot;stylesheet&quot; href=&quot;https://maxcdn.bootstrapcdn.com/bootstrap/3.2.0/css/bootstrap.min.css&quot;/&gt;\n",
              "    &lt;link rel=&quot;stylesheet&quot; href=&quot;https://maxcdn.bootstrapcdn.com/bootstrap/3.2.0/css/bootstrap-theme.min.css&quot;/&gt;\n",
              "    &lt;link rel=&quot;stylesheet&quot; href=&quot;https://maxcdn.bootstrapcdn.com/font-awesome/4.6.3/css/font-awesome.min.css&quot;/&gt;\n",
              "    &lt;link rel=&quot;stylesheet&quot; href=&quot;https://cdnjs.cloudflare.com/ajax/libs/Leaflet.awesome-markers/2.0.2/leaflet.awesome-markers.css&quot;/&gt;\n",
              "    &lt;link rel=&quot;stylesheet&quot; href=&quot;https://cdn.jsdelivr.net/gh/python-visualization/folium/folium/templates/leaflet.awesome.rotate.min.css&quot;/&gt;\n",
              "    \n",
              "            &lt;meta name=&quot;viewport&quot; content=&quot;width=device-width,\n",
              "                initial-scale=1.0, maximum-scale=1.0, user-scalable=no&quot; /&gt;\n",
              "            &lt;style&gt;\n",
              "                #map_0b194a33d051c1ed8212f9f21d44fb27 {\n",
              "                    position: relative;\n",
              "                    width: 100.0%;\n",
              "                    height: 700.0px;\n",
              "                    left: 0.0%;\n",
              "                    top: 0.0%;\n",
              "                }\n",
              "            &lt;/style&gt;\n",
              "        \n",
              "    &lt;script src=&quot;https://cdn.jsdelivr.net/gh/python-visualization/folium@master/folium/templates/leaflet_heat.min.js&quot;&gt;&lt;/script&gt;\n",
              "&lt;/head&gt;\n",
              "&lt;body&gt;    \n",
              "    \n",
              "            &lt;div class=&quot;folium-map&quot; id=&quot;map_0b194a33d051c1ed8212f9f21d44fb27&quot; &gt;&lt;/div&gt;\n",
              "        \n",
              "&lt;/body&gt;\n",
              "&lt;script&gt;    \n",
              "    \n",
              "            var map_0b194a33d051c1ed8212f9f21d44fb27 = L.map(\n",
              "                &quot;map_0b194a33d051c1ed8212f9f21d44fb27&quot;,\n",
              "                {\n",
              "                    center: [33.5186, -86.8104],\n",
              "                    crs: L.CRS.EPSG3857,\n",
              "                    zoom: 10,\n",
              "                    zoomControl: true,\n",
              "                    preferCanvas: false,\n",
              "                }\n",
              "            );\n",
              "\n",
              "            \n",
              "\n",
              "        \n",
              "    \n",
              "            var tile_layer_70933400a9ce93e7b5a000051092a2a8 = L.tileLayer(\n",
              "                &quot;https://{s}.tile.openstreetmap.org/{z}/{x}/{y}.png&quot;,\n",
              "                {&quot;attribution&quot;: &quot;Data by \\u0026copy; \\u003ca href=\\&quot;http://openstreetmap.org\\&quot;\\u003eOpenStreetMap\\u003c/a\\u003e, under \\u003ca href=\\&quot;http://www.openstreetmap.org/copyright\\&quot;\\u003eODbL\\u003c/a\\u003e.&quot;, &quot;detectRetina&quot;: false, &quot;maxNativeZoom&quot;: 18, &quot;maxZoom&quot;: 18, &quot;minZoom&quot;: 0, &quot;noWrap&quot;: false, &quot;opacity&quot;: 1, &quot;subdomains&quot;: &quot;abc&quot;, &quot;tms&quot;: false}\n",
              "            ).addTo(map_0b194a33d051c1ed8212f9f21d44fb27);\n",
              "        \n",
              "    \n",
              "            var heat_map_a4954cee10077c8d60fe14253530247b = L.heatLayer(\n",
              "                [[33.50936, -86.789547], [33.509363, -86.789539], [33.509602, -86.789062], [33.509635, -86.788979], [33.509737, -86.788736], [33.509786, -86.788613], [33.509737, -86.788736], [33.509635, -86.788979], [33.509602, -86.789062], [33.509363, -86.789539], [33.509442, -86.789591], [33.509709, -86.789787], [33.50977, -86.789832], [33.509946, -86.789942], [33.510457, -86.790265], [33.511026, -86.790654], [33.511605, -86.79103], [33.512179, -86.791425], [33.512752, -86.791805], [33.513209, -86.792107], [33.513648, -86.792414], [33.51094, -86.78923], [33.510777, -86.789574], [33.51066, -86.789819], [33.510457, -86.790265], [33.509946, -86.789942], [33.50977, -86.789832], [33.509659, -86.789802], [33.509626, -86.789812], [33.509597, -86.789838], [33.509577, -86.789869], [33.509568, -86.78991], [33.509574, -86.789983], [33.50959, -86.79005], [33.509639, -86.790086], [33.509684, -86.790137], [33.509719, -86.790184], [33.509747, -86.790237], [33.509775, -86.790299], [33.509799, -86.790364], [33.509852, -86.790528], [33.509906, -86.79069], [33.51011, -86.791289], [33.510195, -86.791469], [33.510235, -86.79154], [33.510283, -86.791609], [33.510425, -86.79178], [33.510764, -86.792081], [33.511069, -86.792382], [33.511234, -86.792493], [33.51191, -86.79295], [33.512354, -86.793252], [33.512522, -86.793365], [33.512796, -86.79355], [33.513281, -86.793879], [33.513704, -86.794165], [33.513896, -86.794295], [33.514188, -86.794492], [33.514611, -86.794781], [33.51614, -86.795906], [33.516548, -86.796246], [33.517688, -86.796943], [33.517732, -86.796972], [33.518389, -86.797409], [33.518859, -86.797751], [33.519322, -86.798063], [33.518648, -86.799428], [33.518047, -86.800697], [33.517998, -86.800799], [33.517951, -86.800899], [33.517837, -86.801137], [33.517505, -86.801837], [33.517429, -86.801998], [33.517349, -86.802162], [33.516987, -86.802925], [33.516746, -86.803431], [33.516697, -86.803535], [33.516647, -86.803639], [33.516607, -86.803723], [33.516538, -86.803869], [33.51648, -86.80399], [33.516355, -86.804259], [33.516297, -86.804375], [33.516046, -86.804901], [33.5154, -86.806257], [33.515359, -86.806344], [33.514733, -86.807704], [33.51402, -86.809155], [33.513933, -86.809338], [33.513859, -86.809494], [33.513354, -86.810556], [33.512906, -86.811498], [33.51281, -86.8117], [33.512707, -86.811916], [33.512052, -86.813294], [33.511943, -86.813526], [33.5114, -86.814667], [33.511296, -86.814885], [33.510801, -86.815927], [33.510752, -86.816031], [33.510704, -86.816134], [33.510389, -86.816794], [33.510378, -86.816817], [33.510151, -86.817294], [33.510104, -86.817393], [33.51005, -86.817508], [33.510013, -86.817585], [33.509943, -86.817732], [33.509455, -86.81876], [33.508855, -86.820022], [33.508204, -86.821391], [33.509112, -86.822006], [33.509469, -86.822257], [33.509574, -86.822319], [33.509715, -86.822425], [33.510024, -86.822632], [33.5102, -86.822756], [33.510244, -86.822788], [33.510899, -86.82326], [33.511147, -86.82344], [33.511157, -86.824194], [33.511175, -86.825527], [33.511186, -86.826374], [33.51119, -86.826716], [33.511199, -86.827393], [33.511201, -86.827521], [33.511212, -86.828345], [33.511233, -86.829922], [33.511254, -86.831506], [33.511275, -86.833081], [33.511318, -86.833081], [33.506819, -86.804256], [33.506815, -86.804264], [33.506901, -86.804321], [33.507625, -86.804814], [33.50772, -86.804878], [33.507801, -86.804933], [33.507989, -86.80506], [33.508078, -86.805121], [33.50817, -86.805184], [33.508263, -86.805247], [33.508628, -86.805494], [33.509085, -86.805805], [33.509138, -86.805841], [33.509459, -86.806059], [33.50953, -86.806107], [33.509619, -86.806167], [33.509982, -86.806414], [33.510376, -86.806681], [33.510463, -86.806741], [33.510581, -86.806821], [33.511121, -86.807187], [33.511642, -86.807541], [33.512147, -86.807883], [33.512404, -86.808057], [33.512477, -86.808106], [33.512536, -86.808146], [33.513087, -86.808519], [33.513567, -86.808847], [33.51402, -86.809155], [33.513933, -86.809338], [33.513859, -86.809494], [33.513354, -86.810556], [33.512898, -86.810248], [33.512889, -86.810241], [33.51189, -86.787234], [33.511848, -86.787321], [33.51175, -86.787505], [33.511408, -86.788245], [33.511287, -86.788504], [33.511225, -86.788637], [33.511197, -86.788692], [33.511101, -86.788889], [33.510777, -86.789574], [33.51066, -86.789819], [33.510457, -86.790265], [33.510244, -86.790676], [33.509749, -86.791707], [33.509452, -86.792327], [33.509438, -86.79236], [33.509408, -86.792427], [33.509132, -86.792999], [33.508878, -86.792823], [33.508771, -86.792756], [33.508592, -86.792619], [33.507997, -86.792221], [33.508076, -86.792074], [33.508198, -86.791847], [33.508253, -86.791745], [33.508476, -86.791909], [33.508664, -86.792047], [33.508817, -86.792072], [33.508891, -86.792076], [33.508967, -86.792038], [33.509033, -86.791984], [33.509088, -86.791901], [33.509126, -86.791824], [33.509141, -86.791752], [33.509147, -86.791658], [33.509138, -86.791569], [33.509115, -86.791492], [33.509081, -86.791427], [33.509007, -86.791333], [33.50889, -86.791244], [33.508722, -86.791084], [33.508337, -86.790884], [33.507793, -86.7906], [33.507508, -86.79047], [33.506877, -86.790246], [33.505673, -86.789939], [33.505411, -86.789879], [33.505117, -86.789825], [33.504763, -86.789779], [33.5039, -86.789716], [33.503025, -86.789647], [33.50277, -86.789627], [33.502252, -86.789592], [33.501626, -86.78955], [33.500605, -86.789468], [33.500403, -86.789486], [33.499893, -86.789431], [33.497546, -86.789201], [33.497027, -86.789124], [33.49662, -86.789003], [33.496145, -86.788771], [33.495843, -86.788573], [33.495672, -86.78846], [33.495356, -86.788227], [33.495097, -86.788031], [33.49477, -86.787783], [33.494323, -86.78746], [33.494072, -86.787341], [33.493854, -86.78725], [33.493523, -86.787129], [33.493293, -86.787097], [33.493147, -86.787077], [33.492842, -86.787029], [33.491883, -86.786962], [33.491318, -86.786925], [33.490951, -86.786899], [33.490716, -86.786902], [33.490524, -86.786902], [33.488306, -86.786895], [33.488094, -86.786881], [33.48763, -86.786905], [33.485518, -86.787002], [33.484548, -86.787013], [33.483854, -86.787057], [33.482892, -86.787137], [33.482307, -86.787169], [33.481988, -86.787193], [33.481429, -86.787234], [33.481248, -86.787251], [33.481263, -86.787078], [33.481284, -86.787001], [33.481296, -86.786892], [33.481327, -86.786711], [33.481558, -86.786082], [33.481098, -86.785801], [33.480818, -86.78567], [33.480744, -86.785643], [33.480589, -86.785587], [33.479709, -86.785036], [33.480271, -86.783715], [33.480641, -86.782886], [33.480731, -86.782656], [33.480859, -86.782328], [33.480942, -86.781904], [33.481017, -86.781142], [33.481057, -86.780857], [33.481226, -86.780365], [33.481263, -86.780296], [33.481684, -86.779505], [33.481772, -86.779338], [33.481915, -86.778988], [33.481893, -86.778543], [33.481699, -86.777819], [33.481643, -86.777629], [33.481543, -86.777355], [33.481465, -86.777165], [33.481375, -86.77697], [33.481315, -86.776853], [33.481278, -86.776788], [33.480932, -86.776126], [33.480475, -86.77547], [33.48032, -86.775276], [33.480098, -86.775043], [33.480021, -86.774952], [33.47934, -86.774236], [33.47909, -86.774011], [33.478896, -86.773848], [33.47836, -86.773438], [33.47827, -86.773371], [33.478161, -86.773302], [33.477597, -86.77287], [33.477321, -86.772647], [33.477148, -86.772497], [33.477117, -86.772465], [33.476709, -86.772062], [33.476219, -86.771503], [33.475957, -86.771154], [33.475817, -86.770952], [33.475687, -86.770744], [33.475513, -86.77045], [33.475326, -86.7701], [33.47522, -86.769896], [33.475164, -86.769788], [33.475034, -86.769535], [33.474626, -86.768736], [33.47451, -86.768507], [33.474057, -86.767608], [33.473692, -86.766888], [33.473058, -86.765616], [33.472147, -86.763864], [33.471882, -86.763354], [33.47144, -86.762629], [33.471138, -86.76204], [33.471044, -86.761874], [33.470995, -86.761832], [33.470931, -86.761811], [33.470883, -86.761803], [33.470851, -86.761815], [33.470782, -86.761841], [33.470367, -86.762369], [33.46978, -86.763206], [33.469258, -86.764087], [33.468943, -86.764758], [33.468797, -86.765166], [33.468494, -86.76619], [33.468375, -86.766669], [33.468276, -86.767211], [33.468131, -86.768242], [33.467913, -86.768181], [33.46775, -86.76806], [33.467692, -86.76792], [33.467681, -86.767749], [33.467771, -86.767209], [33.467895, -86.766587], [33.467951, -86.766305], [33.467895, -86.765899], [33.467865, -86.765736], [33.467933, -86.765526], [33.467988, -86.765356], [33.468003, -86.765113], [33.467965, -86.764863], [33.467837, -86.76472], [33.467739, -86.764566], [33.467706, -86.764514], [33.467691, -86.764349], [33.467863, -86.763995], [33.467933, -86.76385], [33.46797, -86.7636], [33.467951, -86.763351], [33.467855, -86.76311], [33.467678, -86.762672], [33.467618, -86.762587], [33.467557, -86.762544], [33.467517, -86.762514], [33.467396, -86.762484], [33.467176, -86.762501], [33.467011, -86.762609], [33.466957, -86.762696], [33.499952, -86.797725], [33.500213, -86.797902], [33.500386, -86.798019], [33.50061, -86.798171], [33.50129, -86.798632], [33.501351, -86.798673], [33.501817, -86.798988], [33.501906, -86.799049], [33.501974, -86.799095], [33.502275, -86.799299], [33.502418, -86.799396], [33.502488, -86.799443], [33.502838, -86.799681], [33.502895, -86.799719], [33.502951, -86.799757], [33.50336, -86.800034], [33.503404, -86.800063], [33.503936, -86.800424], [33.504041, -86.800495], [33.50414, -86.800562], [33.505117, -86.801224], [33.505197, -86.801278], [33.505252, -86.801161], [33.505397, -86.800852], [33.505554, -86.800516], [33.505805, -86.799979], [33.505865, -86.799851], [33.506099, -86.799359], [33.506109, -86.799336], [33.506171, -86.799205], [33.506202, -86.799141], [33.506265, -86.799008], [33.506523, -86.798464], [33.506596, -86.798311], [33.506672, -86.798153], [33.506757, -86.797976], [33.506794, -86.797898], [33.506962, -86.797547], [33.507181, -86.797088], [33.507375, -86.796687], [33.507579, -86.796265], [33.507624, -86.79617], [33.507703, -86.796003], [33.507834, -86.795725], [33.50805, -86.795278], [33.508191, -86.794984], [33.50849, -86.794364], [33.509132, -86.792999], [33.509408, -86.792427], [33.509438, -86.79236], [33.509452, -86.792327], [33.509749, -86.791707], [33.510244, -86.790676], [33.510457, -86.790265], [33.51066, -86.789819], [33.510777, -86.789574], [33.511101, -86.788889], [33.511682, -86.789271], [33.512257, -86.789673], [33.512538, -86.789854], [33.512754, -86.789984], [33.512828, -86.79004], [33.512846, -86.790053], [33.431734, -86.788626], [33.431143, -86.788822], [33.43109, -86.78884], [33.430538, -86.78908], [33.429972, -86.789372], [33.429542, -86.789621], [33.42946, -86.789684], [33.428941, -86.790076], [33.428277, -86.790667], [33.428246, -86.790694], [33.427687, -86.791381], [33.427537, -86.791583], [33.42708, -86.792195], [33.42614, -86.79338], [33.426093, -86.793442], [33.425717, -86.793938], [33.42551, -86.79417], [33.425279, -86.794462], [33.425252, -86.794496], [33.4249, -86.794901], [33.42417, -86.795741], [33.423862, -86.796076], [33.42354, -86.79647], [33.423174, -86.79684], [33.42255, -86.797516], [33.421892, -86.798238], [33.421509, -86.798657], [33.420848, -86.799382], [33.420605, -86.799651], [33.420323, -86.799959], [33.419873, -86.800454], [33.419802, -86.800531], [33.419712, -86.800628], [33.419667, -86.800677], [33.419541, -86.800814], [33.419257, -86.801105], [33.419176, -86.801185], [33.41885, -86.801496], [33.41877, -86.801569], [33.418717, -86.801617], [33.418374, -86.801913], [33.418265, -86.802001], [33.418199, -86.802055], [33.417964, -86.802238], [33.417626, -86.802489], [33.417502, -86.802575], [33.417317, -86.802707], [33.417266, -86.802741], [33.417085, -86.802865], [33.416843, -86.803035], [33.416567, -86.803228], [33.416356, -86.803375], [33.4161, -86.803553], [33.41585, -86.803727], [33.415686, -86.803841], [33.415542, -86.803941], [33.415292, -86.804115], [33.41516, -86.804207], [33.415108, -86.804243], [33.414881, -86.804401], [33.414779, -86.804473], [33.41462, -86.804585], [33.414411, -86.804732], [33.414279, -86.804823], [33.413951, -86.805055], [33.413401, -86.805431], [33.4129, -86.805784], [33.412607, -86.805985], [33.412418, -86.806108], [33.412209, -86.806229], [33.411891, -86.806388], [33.411833, -86.806439], [33.411425, -86.806684], [33.41131, -86.806828], [33.411243, -86.80695], [33.411186, -86.807095], [33.411147, -86.807297], [33.411217, -86.807637], [33.411332, -86.807826], [33.411461, -86.807972], [33.411697, -86.808075], [33.411884, -86.808075], [33.412098, -86.808006], [33.412263, -86.807869], [33.412364, -86.807714], [33.412419, -86.807536], [33.412435, -86.807483], [33.412457, -86.807285], [33.412449, -86.806912], [33.412328, -86.806638], [33.41193, -86.80572], [33.411116, -86.803732], [33.411035, -86.803537], [33.410729, -86.802799], [33.40956, -86.79998], [33.40869, -86.797903], [33.408354, -86.79725], [33.407907, -86.796442], [33.40754, -86.795859], [33.407037, -86.795145], [33.405786, -86.793501], [33.40457, -86.791884], [33.403674, -86.790658], [33.40233, -86.788989], [33.401866, -86.788535], [33.40126, -86.787969], [33.400737, -86.787558], [33.399788, -86.787039], [33.399401, -86.786842], [33.399148, -86.78673], [33.398889, -86.786629], [33.398716, -86.786565], [33.398536, -86.786515], [33.398274, -86.786453], [33.398004, -86.786417], [33.39775, -86.786397], [33.397478, -86.786388], [33.396993, -86.786376], [33.39567, -86.78635], [33.395445, -86.786339], [33.395176, -86.786293], [33.395022, -86.786242], [33.394841, -86.786165], [33.394676, -86.786076], [33.394525, -86.785975], [33.394389, -86.785866], [33.394272, -86.785758], [33.394155, -86.785635], [33.394053, -86.785508], [33.393965, -86.785381], [33.393887, -86.785251], [33.393789, -86.785064], [33.393701, -86.784863], [33.393629, -86.784656], [33.393571, -86.784408], [33.393537, -86.784212], [33.393516, -86.784015], [33.393508, -86.783824], [33.393511, -86.783656], [33.393534, -86.78344], [33.393561, -86.783271], [33.393627, -86.782988], [33.393724, -86.782705], [33.393851, -86.782432], [33.394062, -86.782103], [33.394952, -86.781104], [33.396478, -86.779469], [33.39713, -86.778679], [33.398091, -86.77744], [33.398164, -86.777333], [33.398741, -86.77644], [33.39957, -86.775152], [33.400385, -86.77389], [33.400789, -86.773262], [33.401104, -86.772775], [33.401781, -86.771727], [33.402763, -86.770208], [33.403376, -86.769257], [33.404568, -86.767406], [33.406271, -86.76477], [33.406806, -86.764003], [33.407369, -86.76326], [33.408088, -86.762428], [33.409307, -86.761211], [33.409886, -86.760645], [33.410583, -86.75996], [33.411891, -86.75867], [33.412418, -86.758154], [33.414046, -86.756542], [33.414776, -86.755849], [33.415678, -86.755034], [33.417257, -86.753646], [33.418658, -86.752424], [33.424242, -86.747598], [33.424723, -86.747167], [33.427653, -86.744647], [33.428536, -86.743879], [33.429989, -86.742623], [33.430528, -86.742158], [33.430957, -86.741786], [33.431811, -86.741049], [33.433255, -86.739786], [33.433531, -86.73954], [33.433679, -86.739405], [33.43434, -86.738802], [33.434966, -86.738181], [33.435992, -86.737206], [33.436601, -86.736412], [33.437138, -86.73575], [33.437444, -86.735376], [33.43825, -86.734384], [33.438651, -86.733827], [33.438984, -86.733318], [33.43917, -86.732996], [33.439322, -86.732696], [33.439464, -86.732395], [33.439669, -86.731893], [33.439853, -86.731354], [33.440128, -86.730237], [33.440234, -86.729785], [33.440428, -86.72898], [33.440509, -86.728616], [33.440532, -86.728362], [33.440538, -86.728178], [33.440518, -86.727994], [33.440495, -86.727853], [33.440411, -86.72762], [33.440309, -86.727419], [33.440071, -86.72687], [33.43983, -86.726445], [33.439747, -86.726307], [33.439551, -86.725979], [33.43917, -86.725341], [33.439009, -86.725073], [33.438614, -86.724405], [33.438359, -86.723996], [33.438302, -86.723903], [33.438235, -86.723789], [33.437486, -86.722525], [33.43726, -86.722141], [33.436629, -86.721087], [33.436428, -86.720751], [33.43589, -86.719851], [33.435764, -86.719642], [33.435667, -86.719478], [33.435597, -86.719375], [33.435434, -86.719103], [33.434994, -86.718368], [33.434658, -86.717807], [33.433158, -86.715302], [33.433047, -86.715115], [33.432979, -86.715002], [33.43285, -86.714785], [33.432721, -86.714569], [33.432287, -86.713836], [33.431641, -86.712752], [33.430959, -86.711619], [33.430915, -86.711546], [33.430641, -86.711775], [33.430602, -86.711806], [33.430551, -86.711859], [33.430357, -86.712082], [33.430196, -86.712331], [33.430076, -86.712489], [33.429595, -86.713003], [33.429394, -86.713153], [33.429327, -86.713197], [33.429105, -86.713323], [33.428953, -86.713399], [33.428673, -86.713545], [33.428373, -86.713721], [33.4283, -86.713787], [33.428016, -86.714014], [33.427954, -86.714085], [33.427905, -86.714171], [33.427875, -86.714221], [33.42785, -86.714274], [33.427824, -86.714347], [33.42779, -86.71449], [33.427767, -86.714625], [33.427728, -86.715044], [33.427715, -86.715118], [33.427693, -86.715225], [33.427675, -86.715267], [33.427665, -86.715293], [33.427636, -86.715342], [33.427523, -86.71558], [33.427433, -86.715748], [33.427368, -86.715884], [33.427056, -86.716462], [33.426724, -86.717033], [33.426657, -86.717172], [33.426603, -86.717315], [33.426566, -86.71745], [33.42655, -86.717544], [33.426549, -86.717629], [33.426554, -86.717691], [33.426583, -86.717804], [33.426623, -86.717942], [33.426763, -86.718133], [33.427231, -86.718428], [33.427276, -86.718456], [33.427533, -86.718585], [33.427624, -86.71859], [33.512839, -86.799156], [33.512467, -86.799933], [33.512382, -86.800112], [33.512252, -86.800384], [33.512199, -86.800494], [33.512149, -86.800596], [33.512101, -86.800694], [33.511949, -86.801025], [33.511544, -86.801867], [33.510883, -86.803264], [33.510733, -86.803572], [33.510722, -86.803595], [33.510578, -86.803891], [33.510548, -86.803953], [33.510208, -86.804672], [33.509837, -86.804421], [33.509761, -86.80437], [33.509309, -86.804063], [33.509014, -86.804682], [33.508628, -86.805494], [33.508174, -86.806447], [33.508128, -86.806545], [33.50796, -86.806897], [33.507311, -86.80826], [33.506655, -86.809638], [33.506575, -86.809807], [33.506371, -86.810235], [33.506007, -86.811], [33.505355, -86.812368], [33.504804, -86.813544], [33.504692, -86.813726], [33.50426, -86.81344], [33.503799, -86.813132], [33.50335, -86.812819], [33.502892, -86.812511], [33.502244, -86.813882], [33.502694, -86.814191], [33.503125, -86.814486], [33.503189, -86.814391], [33.503799, -86.813132], [33.50426, -86.81344], [33.504692, -86.813726], [33.504654, -86.813788], [33.504601, -86.813845], [33.504299, -86.814094], [33.503987, -86.814351], [33.503869, -86.814464], [33.503771, -86.814595], [33.503742, -86.814648], [33.503711, -86.814734], [33.503683, -86.814832], [33.503673, -86.814932], [33.503678, -86.815045], [33.503694, -86.81516], [33.50372, -86.815258], [33.503745, -86.815332], [33.503785, -86.81541], [33.503824, -86.81547], [33.50394, -86.815607], [33.50401, -86.815678], [33.504133, -86.815792], [33.5043, -86.81597], [33.504449, -86.816135], [33.508211, -86.818687], [33.508426, -86.81884], [33.508932, -86.819211], [33.509354, -86.819513], [33.50986, -86.819854], [33.510286, -86.820121], [33.51077, -86.820454], [33.51121, -86.820741], [33.511687, -86.821066], [33.512107, -86.821351], [33.512837, -86.821832], [33.513283, -86.822133], [33.513989, -86.822585], [33.515173, -86.823271], [33.515637, -86.823529], [33.515856, -86.823664], [33.517165, -86.824377], [33.517453, -86.824565], [33.51754, -86.824618], [33.518023, -86.824916], [33.518389, -86.825138], [33.518805, -86.82542], [33.519006, -86.825562], [33.519286, -86.825738], [33.519521, -86.825913], [33.520039, -86.826364], [33.520156, -86.826476], [33.520253, -86.826582], [33.52039, -86.826767], [33.520492, -86.826932], [33.520587, -86.827118], [33.520691, -86.827374], [33.520764, -86.827619], [33.520807, -86.827864], [33.520831, -86.828121], [33.520833, -86.82835], [33.520776, -86.829303], [33.520558, -86.830983], [33.520454, -86.831924], [33.520397, -86.832622], [33.52037, -86.833234], [33.520381, -86.833756], [33.520474, -86.834672], [33.520712, -86.83595], [33.520933, -86.837254], [33.520981, -86.837716], [33.520995, -86.837858], [33.521028, -86.83843], [33.521037, -86.839301], [33.52107, -86.842441], [33.521085, -86.843989], [33.521096, -86.845064], [33.521099, -86.845346], [33.521102, -86.845627], [33.521123, -86.848235], [33.521113, -86.850452], [33.521068, -86.85123], [33.520907, -86.85284], [33.520817, -86.853356], [33.520527, -86.854722], [33.519838, -86.857176], [33.517432, -86.86586], [33.517133, -86.866754], [33.516759, -86.86762], [33.516474, -86.86817], [33.515563, -86.869682], [33.514758, -86.871034], [33.514291, -86.871788], [33.513759, -86.872648], [33.513451, -86.873166], [33.512678, -86.874465], [33.512497, -86.874757], [33.512341, -86.875086], [33.512151, -86.875491], [33.511665, -86.876495], [33.511457, -86.876913], [33.511301, -86.877246], [33.511254, -86.877342], [33.510777, -86.878313], [33.510618, -86.878307], [33.510582, -86.878311], [33.510527, -86.878273], [33.510483, -86.87823], [33.510454, -86.877196], [33.510503, -86.876832], [33.510492, -86.876519], [33.510489, -86.876367], [33.510481, -86.876178], [33.510465, -86.875786], [33.510413, -86.874492], [33.510135, -86.873916], [33.51003, -86.873567], [33.509974, -86.873054], [33.510001, -86.872801], [33.510058, -86.872581], [33.510139, -86.872316], [33.51023, -86.872117], [33.51036, -86.871907], [33.510461, -86.871613], [33.510514, -86.871357], [33.510519, -86.870981], [33.510485, -86.870385], [33.51048, -86.870304], [33.510426, -86.870083], [33.510303, -86.869775], [33.510137, -86.869536], [33.510015, -86.869357], [33.509861, -86.86904], [33.509794, -86.868784], [33.509777, -86.868395], [33.509774, -86.865745], [33.509776, -86.864793], [33.50978, -86.862982], [33.509788, -86.861407], [33.509855, -86.861062], [33.509962, -86.860725], [33.510106, -86.860408], [33.510138, -86.860357], [33.511221, -86.788634], [33.511225, -86.788637], [33.511197, -86.788692], [33.511101, -86.788889], [33.510777, -86.789574], [33.51066, -86.789819], [33.510457, -86.790265], [33.510244, -86.790676], [33.509749, -86.791707], [33.509452, -86.792327], [33.509438, -86.79236], [33.509408, -86.792427], [33.509132, -86.792999], [33.50849, -86.794364], [33.508191, -86.794984], [33.50805, -86.795278], [33.507834, -86.795725], [33.507703, -86.796003], [33.507624, -86.79617], [33.507579, -86.796265], [33.507375, -86.796687], [33.507181, -86.797088], [33.506962, -86.797547], [33.506794, -86.797898], [33.506757, -86.797976], [33.506672, -86.798153], [33.506596, -86.798311], [33.506523, -86.798464], [33.506265, -86.799008], [33.506202, -86.799141], [33.506171, -86.799205], [33.506109, -86.799336], [33.506099, -86.799359], [33.505865, -86.799851], [33.505805, -86.799979], [33.505554, -86.800516], [33.505397, -86.800852], [33.505252, -86.801161], [33.505197, -86.801278], [33.504907, -86.80189], [33.504579, -86.802582], [33.504521, -86.802705], [33.504616, -86.80277], [33.511574, -86.787323], [33.511618, -86.787369], [33.51175, -86.787505], [33.511408, -86.788245], [33.511287, -86.788504], [33.511225, -86.788637], [33.511197, -86.788692], [33.511101, -86.788889], [33.510777, -86.789574], [33.51066, -86.789819], [33.510457, -86.790265], [33.509946, -86.789942], [33.50977, -86.789832], [33.509709, -86.789787], [33.509442, -86.789591], [33.509363, -86.789539], [33.509317, -86.789641], [33.509243, -86.789806], [33.509206, -86.789888], [33.50914, -86.790032], [33.50889, -86.790533], [33.508817, -86.790667], [33.508548, -86.791201], [33.50844, -86.791594], [33.508476, -86.791909], [33.508664, -86.792047], [33.508817, -86.792072], [33.508891, -86.792076], [33.508967, -86.792038], [33.509033, -86.791984], [33.509088, -86.791901], [33.509126, -86.791824], [33.509141, -86.791752], [33.509147, -86.791658], [33.509138, -86.791569], [33.509115, -86.791492], [33.509081, -86.791427], [33.509007, -86.791333], [33.50889, -86.791244], [33.508722, -86.791084], [33.508337, -86.790884], [33.507793, -86.7906], [33.507508, -86.79047], [33.506877, -86.790246], [33.505673, -86.789939], [33.505411, -86.789879], [33.505117, -86.789825], [33.504763, -86.789779], [33.5039, -86.789716], [33.503025, -86.789647], [33.50277, -86.789627], [33.502252, -86.789592], [33.501626, -86.78955], [33.500605, -86.789468], [33.500403, -86.789486], [33.499893, -86.789431], [33.497546, -86.789201], [33.497027, -86.789124], [33.49662, -86.789003], [33.496145, -86.788771], [33.495843, -86.788573], [33.495672, -86.78846], [33.495356, -86.788227], [33.495097, -86.788031], [33.49477, -86.787783], [33.494323, -86.78746], [33.493901, -86.787358], [33.493404, -86.787292], [33.491459, -86.78725], [33.491383, -86.787405], [33.491234, -86.787718], [33.489921, -86.790478], [33.48906, -86.792413], [33.488808, -86.792984], [33.488753, -86.793157], [33.488655, -86.793364], [33.488623, -86.793431], [33.488606, -86.793468], [33.488586, -86.793509], [33.488342, -86.794021], [33.48823, -86.794326], [33.488132, -86.794765], [33.488115, -86.794872], [33.488044, -86.795306], [33.488013, -86.795493], [33.487955, -86.795662], [33.487808, -86.795973], [33.487589, -86.796274], [33.485999, -86.798246], [33.485759, -86.798549], [33.485458, -86.798847], [33.48424, -86.799704], [33.483598, -86.80025], [33.48335, -86.800518], [33.483139, -86.800819], [33.482981, -86.801111], [33.482875, -86.801393], [33.482762, -86.80174], [33.482692, -86.802089], [33.482477, -86.804402], [33.48243, -86.804835], [33.48238, -86.805054], [33.482256, -86.805349], [33.482312, -86.805474], [33.482379, -86.805559], [33.482449, -86.805737], [33.482514, -86.805894], [33.482554, -86.805994], [33.482526, -86.806404], [33.482511, -86.806613], [33.482703, -86.806838], [33.482843, -86.807051], [33.482956, -86.807222], [33.483105, -86.807541], [33.482472, -86.808676], [33.482632, -86.808856], [33.482377, -86.809334], [33.482083, -86.809951], [33.482298, -86.810108], [33.482034, -86.810751], [33.482298, -86.810108], [33.482083, -86.809951], [33.482377, -86.809334], [33.482632, -86.808856], [33.482472, -86.808676], [33.483105, -86.807541], [33.482956, -86.807222], [33.482843, -86.807051], [33.482703, -86.806838], [33.482511, -86.806613], [33.482526, -86.806404], [33.482554, -86.805994], [33.482514, -86.805894], [33.482449, -86.805737], [33.482379, -86.805559], [33.482312, -86.805474], [33.482256, -86.805349], [33.48238, -86.805054], [33.48243, -86.804835], [33.482477, -86.804402], [33.482227, -86.80431], [33.482033, -86.804193], [33.481955, -86.804115], [33.481824, -86.804005], [33.481662, -86.803803], [33.481586, -86.803764], [33.488166, -86.808008], [33.488166, -86.808002], [33.488165, -86.807541], [33.488153, -86.807204], [33.488141, -86.807012], [33.48813, -86.806892], [33.488129, -86.806298], [33.488211, -86.805927], [33.488537, -86.805052], [33.488835, -86.804107], [33.489035, -86.803671], [33.489309, -86.803167], [33.48977, -86.802492], [33.489979, -86.802281], [33.490028, -86.80226], [33.490136, -86.802148], [33.490519, -86.801751], [33.490688, -86.801608], [33.491016, -86.801156], [33.49111, -86.801151], [33.491664, -86.801368], [33.492029, -86.801519], [33.492821, -86.801846], [33.492923, -86.801885], [33.493116, -86.801959], [33.493593, -86.802158], [33.493848, -86.802264], [33.494112, -86.802366], [33.494576, -86.802556], [33.495033, -86.802735], [33.495413, -86.802889], [33.495572, -86.802954], [33.495788, -86.803038], [33.495833, -86.803055], [33.496105, -86.80316], [33.496368, -86.803264], [33.49651, -86.80332], [33.496623, -86.803364], [33.497156, -86.803568], [33.497483, -86.802871], [33.497749, -86.802305], [33.497796, -86.802205], [33.497819, -86.802156], [33.497889, -86.802007], [33.498153, -86.801447], [33.498289, -86.801155], [33.498313, -86.801105], [33.498382, -86.800959], [33.498534, -86.80062], [33.498568, -86.800545], [33.498647, -86.800382], [33.49878, -86.800105], [33.498794, -86.800076], [33.49891, -86.799834], [33.498943, -86.799764], [33.499244, -86.799123], [33.499576, -86.798417], [33.4996, -86.798366]],\n",
              "                {&quot;blur&quot;: 5, &quot;maxZoom&quot;: 18, &quot;minOpacity&quot;: 0.5, &quot;radius&quot;: 5}\n",
              "            ).addTo(map_0b194a33d051c1ed8212f9f21d44fb27);\n",
              "        \n",
              "&lt;/script&gt;\" style=\"position:absolute;width:100%;height:100%;left:0;top:0;border:none !important;\" allowfullscreen webkitallowfullscreen mozallowfullscreen></iframe></div></div>"
            ]
          },
          "metadata": {},
          "execution_count": 22
        }
      ]
    },
    {
      "cell_type": "code",
      "execution_count": 23,
      "metadata": {
        "id": "QCEjduJ9w7M_"
      },
      "outputs": [],
      "source": [
        "# The End"
      ]
    }
  ],
  "metadata": {
    "colab": {
      "collapsed_sections": [
        "YqG6ckKQNTTd"
      ],
      "name": "Fast Map Matching (FMM) - Example",
      "provenance": []
    },
    "kernelspec": {
      "display_name": "Python 3 (ipykernel)",
      "language": "python",
      "name": "python3"
    },
    "language_info": {
      "codemirror_mode": {
        "name": "ipython",
        "version": 3
      },
      "file_extension": ".py",
      "mimetype": "text/x-python",
      "name": "python",
      "nbconvert_exporter": "python",
      "pygments_lexer": "ipython3",
      "version": "3.9.7"
    }
  },
  "nbformat": 4,
  "nbformat_minor": 0
}